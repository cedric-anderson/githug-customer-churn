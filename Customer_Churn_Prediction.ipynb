{
  "cells": [
    {
      "cell_type": "markdown",
      "metadata": {
        "id": "Q3hgLYhfOndy"
      },
      "source": [
        "# MACHINE LEARNING POUR LA PREDICTION DU DESABONNEMENT DES CLIENTS D'UNE ENTREPRISE \"IBM\" (CUSTOMER CHURN)"
      ]
    },
    {
      "cell_type": "markdown",
      "metadata": {
        "id": "VQwskrSAPLeS"
      },
      "source": [
        "<img src=\"https://thumbs.dreamstime.com/z/supprimer-les-filigranes-de-mosa%C3%AFque-et-rectangle-hachur%C3%A9-d%C3%A9sabonnement-pictogramme-timbres-sceau-rectangulaires-ic%C3%B4ne-165130306.jpg\" width=\"1000\" height=\"550\">"
      ]
    },
    {
      "cell_type": "markdown",
      "metadata": {
        "id": "v-NMseSTTZVw"
      },
      "source": [
        "## Compréhension de la problématique business"
      ]
    },
    {
      "cell_type": "markdown",
      "metadata": {
        "id": "qsrdAtI_QoZg"
      },
      "source": [
        "Nous allons construire un model de machine learning pour predire le taux de désabonnement des clients qui son suceptibles de se désabonné des services d'une entreprise de télécom, pour ensuite proposer des solutions de fidélisations de ses clients\n",
        "\n",
        "La prediction du taux de désabonnement est cruciale pour une entreprise, car le coût de retention d'un client existant est bien inférieur a celui d'en acquerir un nouveau."
      ]
    },
    {
      "cell_type": "markdown",
      "metadata": {
        "id": "0zLFaIqWT-a5"
      },
      "source": [
        "## Table des Matières"
      ]
    },
    {
      "cell_type": "markdown",
      "metadata": {
        "id": "i8oDdqxJUFeY"
      },
      "source": [
        "[Introduction]()\n",
        "\n",
        "[Importation des outils nécessaires]()\n",
        "\n",
        "[Importation des données]()\n",
        "\n",
        "[Prétraitement des données]()\n",
        "\n",
        "[Modélisation]()\n",
        "\n",
        " * [ Modèle de Regression Logistique]()\n",
        " * [Modèle de Forêt aléatoire]()\n",
        " * [Classificateur Perceptron multicouche]()\n",
        " * [Support Vector Machine]()\n",
        " \n",
        "[Conclusion]()"
      ]
    },
    {
      "cell_type": "markdown",
      "metadata": {
        "id": "YEIu5n4YYj-G"
      },
      "source": [
        "## Intrduction"
      ]
    },
    {
      "cell_type": "markdown",
      "metadata": {
        "id": "yskT7M-zYuBj"
      },
      "source": [
        "<img src=\"https://img.freepik.com/photos-gratuite/client-satisfait-livraison-ligne-recevant-colis_23-2148419011.jpg?w=740&t=st=1672864072~exp=1672864672~hmac=7d90f7849b59a654664e238566ad3b4bdcab2b7d8e273dac074b667291f92d3e\" width=\"1500\" height=\"600\">\n",
        "\n",
        "\n",
        "<img src=\"https://img.freepik.com/photos-premium/client-satisfait-livraison-ligne-signant-formulaires_23-2148419014.jpg?w=740\" width=\"1500\" height=\"600\">\n",
        "\n",
        "\n",
        "\n",
        "Le désabonnement d'un client se produit lorsque ce dernier decide de cesser d'utiliser les services, le contenu ou les produits d'une entreprise. \n",
        "\n",
        "Il existe de nombreux exemples et cas de désabonnement \n",
        "\n",
        " * Annulation d'un service sous contrat ou non;\n",
        " * Achat dans un autre magasin concurrent;\n",
        " * Désabonnement d'une newsletter;\n",
        " * Clôture de compte bancaire;\n",
        " * Etc.\n",
        "\n",
        "Dans ce monde des affaires où une entreprise fait face à de nombreux concurrents, le coût d'acquisition de nouveaux clients est très élevé. Dès\n",
        "lors, la fidélisation des clients existants est plus importante pour les entreprises. Ainsi, l'entreprise doit mieux comprendre le comportement de\n",
        "ses clients afin de les fidéliser. Une façon de le faire consiste à créer ** un modèle de Machine Learning ou de réseau de neurones artificielles\n",
        "qui peut prédire quels clients sont susceptibles de se désabonner**. L'entreprise peut ainsi mieux cibler et fidéliser ces clients spécifiques qui présentent un risque plus élevé de désabonnement.\n",
        "\n",
        "Dans ce projet, nous explorerons un ensemble de données d'une entreprise de télécommunications et créerons un modèle dans le but de prédire les clients présentant un risque de désabonnement plus elévé. Nous utiliseront différents algorithmes de machine learning pour afin de comparer leur performances puis nous utiliserons le meilleur modèle."
      ]
    },
    {
      "cell_type": "markdown",
      "metadata": {
        "id": "2ReUUMC1f7pv"
      },
      "source": [
        "## Importation des outils nécessaires"
      ]
    },
    {
      "cell_type": "code",
      "execution_count": 83,
      "metadata": {
        "id": "8s6twMFhgR0H"
      },
      "outputs": [],
      "source": [
        "# Data processing\n",
        "import pandas as pd\n",
        "import numpy as np\n",
        "\n",
        "# Data Visualization\n",
        "import matplotlib.pyplot as plt\n",
        "import seaborn as sns\n",
        "%matplotlib inline\n",
        "\n",
        "# Interactive chart\n",
        "import ipywidgets as widgets\n",
        "from ipywidgets import interact, interactive, fixed, interact_manual\n",
        "\n",
        "# Model and performance\n",
        "from sklearn.model_selection import train_test_split\n",
        "from sklearn.linear_model import LogisticRegression\n",
        "from sklearn. ensemble import RandomForestClassifier\n",
        "from sklearn.neural_network import MLPClassifier\n",
        "from sklearn.svm import SVC\n",
        "from sklearn.preprocessing import MinMaxScaler\n",
        "from sklearn.model_selection import GridSearchCV\n",
        "from sklearn.metrics import classification_report\n",
        "from sklearn.metrics import roc_auc_score\n",
        "from sklearn.metrics import roc_curve, auc\n",
        "\n",
        "# Feature Selection\n",
        "from sklearn. feature_selection import RFE\n",
        "\n",
        "# Over sampling and under sampling\n",
        "from sklearn.utils import resample\n",
        "\n",
        "# Model deployement\n",
        "import joblib\n"
      ]
    },
    {
      "cell_type": "markdown",
      "metadata": {
        "id": "JIiT7s4ev1DR"
      },
      "source": [
        "## Importation des données"
      ]
    },
    {
      "cell_type": "code",
      "execution_count": 84,
      "metadata": {
        "colab": {
          "base_uri": "https://localhost:8080/",
          "height": 386
        },
        "id": "BYFTHLgYyDe7",
        "outputId": "6dcdf7b5-e695-496f-ac6a-ecdf3cef684e"
      },
      "outputs": [
        {
          "data": {
            "text/html": [
              "<div>\n",
              "<style scoped>\n",
              "    .dataframe tbody tr th:only-of-type {\n",
              "        vertical-align: middle;\n",
              "    }\n",
              "\n",
              "    .dataframe tbody tr th {\n",
              "        vertical-align: top;\n",
              "    }\n",
              "\n",
              "    .dataframe thead th {\n",
              "        text-align: right;\n",
              "    }\n",
              "</style>\n",
              "<table border=\"1\" class=\"dataframe\">\n",
              "  <thead>\n",
              "    <tr style=\"text-align: right;\">\n",
              "      <th></th>\n",
              "      <th>customerID</th>\n",
              "      <th>gender</th>\n",
              "      <th>SeniorCitizen</th>\n",
              "      <th>Partner</th>\n",
              "      <th>Dependents</th>\n",
              "      <th>tenure</th>\n",
              "      <th>PhoneService</th>\n",
              "      <th>MultipleLines</th>\n",
              "      <th>InternetService</th>\n",
              "      <th>OnlineSecurity</th>\n",
              "      <th>...</th>\n",
              "      <th>DeviceProtection</th>\n",
              "      <th>TechSupport</th>\n",
              "      <th>StreamingTV</th>\n",
              "      <th>StreamingMovies</th>\n",
              "      <th>Contract</th>\n",
              "      <th>PaperlessBilling</th>\n",
              "      <th>PaymentMethod</th>\n",
              "      <th>MonthlyCharges</th>\n",
              "      <th>TotalCharges</th>\n",
              "      <th>Churn</th>\n",
              "    </tr>\n",
              "  </thead>\n",
              "  <tbody>\n",
              "    <tr>\n",
              "      <th>0</th>\n",
              "      <td>7590-VHVEG</td>\n",
              "      <td>Female</td>\n",
              "      <td>0</td>\n",
              "      <td>Yes</td>\n",
              "      <td>No</td>\n",
              "      <td>1</td>\n",
              "      <td>No</td>\n",
              "      <td>No phone service</td>\n",
              "      <td>DSL</td>\n",
              "      <td>No</td>\n",
              "      <td>...</td>\n",
              "      <td>No</td>\n",
              "      <td>No</td>\n",
              "      <td>No</td>\n",
              "      <td>No</td>\n",
              "      <td>Month-to-month</td>\n",
              "      <td>Yes</td>\n",
              "      <td>Electronic check</td>\n",
              "      <td>29.85</td>\n",
              "      <td>29.85</td>\n",
              "      <td>No</td>\n",
              "    </tr>\n",
              "    <tr>\n",
              "      <th>1</th>\n",
              "      <td>5575-GNVDE</td>\n",
              "      <td>Male</td>\n",
              "      <td>0</td>\n",
              "      <td>No</td>\n",
              "      <td>No</td>\n",
              "      <td>34</td>\n",
              "      <td>Yes</td>\n",
              "      <td>No</td>\n",
              "      <td>DSL</td>\n",
              "      <td>Yes</td>\n",
              "      <td>...</td>\n",
              "      <td>Yes</td>\n",
              "      <td>No</td>\n",
              "      <td>No</td>\n",
              "      <td>No</td>\n",
              "      <td>One year</td>\n",
              "      <td>No</td>\n",
              "      <td>Mailed check</td>\n",
              "      <td>56.95</td>\n",
              "      <td>1889.5</td>\n",
              "      <td>No</td>\n",
              "    </tr>\n",
              "    <tr>\n",
              "      <th>2</th>\n",
              "      <td>3668-QPYBK</td>\n",
              "      <td>Male</td>\n",
              "      <td>0</td>\n",
              "      <td>No</td>\n",
              "      <td>No</td>\n",
              "      <td>2</td>\n",
              "      <td>Yes</td>\n",
              "      <td>No</td>\n",
              "      <td>DSL</td>\n",
              "      <td>Yes</td>\n",
              "      <td>...</td>\n",
              "      <td>No</td>\n",
              "      <td>No</td>\n",
              "      <td>No</td>\n",
              "      <td>No</td>\n",
              "      <td>Month-to-month</td>\n",
              "      <td>Yes</td>\n",
              "      <td>Mailed check</td>\n",
              "      <td>53.85</td>\n",
              "      <td>108.15</td>\n",
              "      <td>Yes</td>\n",
              "    </tr>\n",
              "    <tr>\n",
              "      <th>3</th>\n",
              "      <td>7795-CFOCW</td>\n",
              "      <td>Male</td>\n",
              "      <td>0</td>\n",
              "      <td>No</td>\n",
              "      <td>No</td>\n",
              "      <td>45</td>\n",
              "      <td>No</td>\n",
              "      <td>No phone service</td>\n",
              "      <td>DSL</td>\n",
              "      <td>Yes</td>\n",
              "      <td>...</td>\n",
              "      <td>Yes</td>\n",
              "      <td>Yes</td>\n",
              "      <td>No</td>\n",
              "      <td>No</td>\n",
              "      <td>One year</td>\n",
              "      <td>No</td>\n",
              "      <td>Bank transfer (automatic)</td>\n",
              "      <td>42.30</td>\n",
              "      <td>1840.75</td>\n",
              "      <td>No</td>\n",
              "    </tr>\n",
              "    <tr>\n",
              "      <th>4</th>\n",
              "      <td>9237-HQITU</td>\n",
              "      <td>Female</td>\n",
              "      <td>0</td>\n",
              "      <td>No</td>\n",
              "      <td>No</td>\n",
              "      <td>2</td>\n",
              "      <td>Yes</td>\n",
              "      <td>No</td>\n",
              "      <td>Fiber optic</td>\n",
              "      <td>No</td>\n",
              "      <td>...</td>\n",
              "      <td>No</td>\n",
              "      <td>No</td>\n",
              "      <td>No</td>\n",
              "      <td>No</td>\n",
              "      <td>Month-to-month</td>\n",
              "      <td>Yes</td>\n",
              "      <td>Electronic check</td>\n",
              "      <td>70.70</td>\n",
              "      <td>151.65</td>\n",
              "      <td>Yes</td>\n",
              "    </tr>\n",
              "  </tbody>\n",
              "</table>\n",
              "<p>5 rows × 21 columns</p>\n",
              "</div>"
            ],
            "text/plain": [
              "   customerID  gender  SeniorCitizen Partner Dependents  tenure PhoneService  \\\n",
              "0  7590-VHVEG  Female              0     Yes         No       1           No   \n",
              "1  5575-GNVDE    Male              0      No         No      34          Yes   \n",
              "2  3668-QPYBK    Male              0      No         No       2          Yes   \n",
              "3  7795-CFOCW    Male              0      No         No      45           No   \n",
              "4  9237-HQITU  Female              0      No         No       2          Yes   \n",
              "\n",
              "      MultipleLines InternetService OnlineSecurity  ... DeviceProtection  \\\n",
              "0  No phone service             DSL             No  ...               No   \n",
              "1                No             DSL            Yes  ...              Yes   \n",
              "2                No             DSL            Yes  ...               No   \n",
              "3  No phone service             DSL            Yes  ...              Yes   \n",
              "4                No     Fiber optic             No  ...               No   \n",
              "\n",
              "  TechSupport StreamingTV StreamingMovies        Contract PaperlessBilling  \\\n",
              "0          No          No              No  Month-to-month              Yes   \n",
              "1          No          No              No        One year               No   \n",
              "2          No          No              No  Month-to-month              Yes   \n",
              "3         Yes          No              No        One year               No   \n",
              "4          No          No              No  Month-to-month              Yes   \n",
              "\n",
              "               PaymentMethod MonthlyCharges  TotalCharges Churn  \n",
              "0           Electronic check          29.85         29.85    No  \n",
              "1               Mailed check          56.95        1889.5    No  \n",
              "2               Mailed check          53.85        108.15   Yes  \n",
              "3  Bank transfer (automatic)          42.30       1840.75    No  \n",
              "4           Electronic check          70.70        151.65   Yes  \n",
              "\n",
              "[5 rows x 21 columns]"
            ]
          },
          "execution_count": 84,
          "metadata": {},
          "output_type": "execute_result"
        }
      ],
      "source": [
        "# Importation des données\n",
        "#r'https://raw.githubusercontent.com/JosueAfouda/TUTORIALS/main/Telco-Customer-Churn.csv'\n",
        "df = pd.read_csv(r\".\\data\\Data_Telcom_Customer-Churn.csv\")\n",
        "df.head()"
      ]
    },
    {
      "cell_type": "markdown",
      "metadata": {
        "id": "rOaQ44qV1X1e"
      },
      "source": [
        "Les données proviennent de Kaggle qui est la plus celebre plateforme de compétition en Data Scientist.\n",
        "\n",
        "L'ensemble des données compte 21 variables (colonne) et 7043 observations (ligne) historiques. Chaque ligne représente un client, chaque colonne contient les attributs du client décrits dans la colonne Métadonnées.\n",
        "\n",
        "L’ensemble de données comprend des informations sur:\n",
        "\n",
        "* Clients qui sont partis au cours du dernier mois – la colonne s’appelle Churn\n",
        "\n",
        "* Services auxquels chaque client s’est inscrit - téléphone, lignes multiples, Internet, sécurité en ligne, sauvegarde en ligne, protection des appareils, support technique et diffusion de télévision et de films en streaming\n",
        "\n",
        "* Informations sur le compte client – depuis combien de temps il est client, contrat, mode de paiement, facturation dématérialisée, frais mensuels et frais totaux\n",
        "\n",
        "* Informations démographiques sur les clients - sexe, tranche d’âge et s’ils ont des partenaires et des personnes à charge\n",
        "* ****\n",
        "\n",
        "Il est important de comprendre les variables de notre jeu de données:\n",
        "* **customerID :** ID client\n",
        "* **gender** Si le client est un homme ou une femme\n",
        "* **SeniorCitizen :** Si le client est une personne âgée ou non (1, 0)\n",
        "* **Partner :** Si le client a un partenaire ou non (Oui, Non)\n",
        "* **Dependents\t:** Si le client a des personnes à charge ou non (Oui, Non)\n",
        "* **tenure :** Nombre de mois pendant lesquels le client est resté dans l’entreprise\n",
        "* **PhoneService :** Si le client dispose d’un service téléphonique ou non (Oui, Non)\n",
        "* **MultipleLines** Si le client a plusieurs lignes ou non (Oui, Non, Pas de service téléphonique)\n",
        "* **InternetService :** Fournisseur de services Internet du client (DSL, fibre optique, non)\n",
        "* **OnlineSecurity :** Si le client dispose d’une sécurité en ligne ou non (Oui, Non, Pas de service Internet)\n",
        "* **DeviceProtection :** Si le client dispose d’une sauvegarde en ligne ou non (Oui, Non, Pas de service Internet)\n",
        "* **TechSupport :** Si le client dispose ou non d’une protection de l’appareil (Oui, Non, Pas de service Internet)\n",
        "* **StreamingTV :** Si le client dispose ou non de la télévision en streaming (Oui, Non, Pas de service Internet)\n",
        "* **StreamingMovies :** Si le client a des films en streaming ou non (Oui, Non, Pas de service Internet)\n",
        "* **Contract :** La durée du contrat du client (mois à mois, un an, deux ans)\n",
        "* **PaperlessBilling :** Si le client a une facturation dématérialisée ou non (Oui, Non)\n",
        "* **PaymentMethod\t :** Le mode de paiement du client (chèque électronique, chèque posté, virement bancaire (automatique), carte\n",
        "* **MonthlyCharges :** Le montant facturé mensuellement au client\n",
        "* **TotalCharges :** Le montant total facturé au client\n",
        "* **Churn :** Que le client ait baratté ou non (Oui ou Non)\n",
        "\n",
        "La variable cible est la variable **churn** qui prend deux valeurs:\n",
        "* YES, le client s'est désabonné\n",
        "* NO, le client ne s'est pas désabonné\n",
        "\n"
      ]
    },
    {
      "cell_type": "code",
      "execution_count": 85,
      "metadata": {
        "colab": {
          "base_uri": "https://localhost:8080/"
        },
        "id": "nfa-YTG_9YDp",
        "outputId": "79158f7f-3f46-4add-837f-d8c132ce31e7"
      },
      "outputs": [
        {
          "name": "stdout",
          "output_type": "stream",
          "text": [
            "<class 'pandas.core.frame.DataFrame'>\n",
            "RangeIndex: 7043 entries, 0 to 7042\n",
            "Data columns (total 21 columns):\n",
            " #   Column            Non-Null Count  Dtype  \n",
            "---  ------            --------------  -----  \n",
            " 0   customerID        7043 non-null   object \n",
            " 1   gender            7043 non-null   object \n",
            " 2   SeniorCitizen     7043 non-null   int64  \n",
            " 3   Partner           7043 non-null   object \n",
            " 4   Dependents        7043 non-null   object \n",
            " 5   tenure            7043 non-null   int64  \n",
            " 6   PhoneService      7043 non-null   object \n",
            " 7   MultipleLines     7043 non-null   object \n",
            " 8   InternetService   7043 non-null   object \n",
            " 9   OnlineSecurity    7043 non-null   object \n",
            " 10  OnlineBackup      7043 non-null   object \n",
            " 11  DeviceProtection  7043 non-null   object \n",
            " 12  TechSupport       7043 non-null   object \n",
            " 13  StreamingTV       7043 non-null   object \n",
            " 14  StreamingMovies   7043 non-null   object \n",
            " 15  Contract          7043 non-null   object \n",
            " 16  PaperlessBilling  7043 non-null   object \n",
            " 17  PaymentMethod     7043 non-null   object \n",
            " 18  MonthlyCharges    7043 non-null   float64\n",
            " 19  TotalCharges      7043 non-null   object \n",
            " 20  Churn             7043 non-null   object \n",
            "dtypes: float64(1), int64(2), object(18)\n",
            "memory usage: 1.1+ MB\n"
          ]
        }
      ],
      "source": [
        "# Information sur l'ensemble des données\n",
        "df.info()"
      ]
    },
    {
      "cell_type": "markdown",
      "metadata": {
        "id": "hVGAIN-b9ehI"
      },
      "source": [
        "Apparemment, il n'y a pas de valeurs manquantes. Mais les valeurs manquantes peuvent etre câchées. L'analyse exploratoire des données nous donnera beaucoup plus d'information sur les données."
      ]
    },
    {
      "cell_type": "code",
      "execution_count": 86,
      "metadata": {
        "colab": {
          "base_uri": "https://localhost:8080/"
        },
        "id": "fUgEtyTL9133",
        "outputId": "ec91e1c4-101f-44c3-9f47-39f9f883befd"
      },
      "outputs": [
        {
          "data": {
            "text/plain": [
              "customerID          7043\n",
              "gender                 2\n",
              "SeniorCitizen          2\n",
              "Partner                2\n",
              "Dependents             2\n",
              "tenure                73\n",
              "PhoneService           2\n",
              "MultipleLines          3\n",
              "InternetService        3\n",
              "OnlineSecurity         3\n",
              "OnlineBackup           3\n",
              "DeviceProtection       3\n",
              "TechSupport            3\n",
              "StreamingTV            3\n",
              "StreamingMovies        3\n",
              "Contract               3\n",
              "PaperlessBilling       2\n",
              "PaymentMethod          4\n",
              "MonthlyCharges      1585\n",
              "TotalCharges        6531\n",
              "Churn                  2\n",
              "dtype: int64"
            ]
          },
          "execution_count": 86,
          "metadata": {},
          "output_type": "execute_result"
        }
      ],
      "source": [
        "# Nombre de valeurs uniques par colonne\n",
        "df.nunique()"
      ]
    },
    {
      "cell_type": "markdown",
      "metadata": {
        "id": "cGy2_uME-7UM"
      },
      "source": [
        "Etant donné que la variable **CustomerID** (identifiant du client) a 7043 valeurs distinctes et que la dataframe contient au total 7043 observations(ligne), alors nous somme convaincu que chaque ligne de l'ensemble de données représente un unique client."
      ]
    },
    {
      "cell_type": "markdown",
      "metadata": {
        "id": "4DEs0v_s_nqw"
      },
      "source": [
        "Effectuons une analyse exploratoire des données afin de mieux les comprendre"
      ]
    },
    {
      "cell_type": "markdown",
      "metadata": {
        "id": "8UHTm2LT_5-V"
      },
      "source": [
        "## Analyse exploratoire des données"
      ]
    },
    {
      "cell_type": "markdown",
      "metadata": {
        "id": "Zw_cl0yy_-XC"
      },
      "source": [
        "Commençons notre analyse exploratoire des données en traçant un graphique de visualisation de la distribution de chaque variable"
      ]
    },
    {
      "cell_type": "code",
      "execution_count": 87,
      "metadata": {
        "colab": {
          "base_uri": "https://localhost:8080/"
        },
        "id": "SOGY-JxfEi8m",
        "outputId": "17b99df1-ec05-48c1-eab8-78c2dca86e24"
      },
      "outputs": [
        {
          "data": {
            "text/plain": [
              "['gender',\n",
              " 'SeniorCitizen',\n",
              " 'Partner',\n",
              " 'Dependents',\n",
              " 'PhoneService',\n",
              " 'MultipleLines',\n",
              " 'InternetService',\n",
              " 'OnlineSecurity',\n",
              " 'OnlineBackup',\n",
              " 'DeviceProtection',\n",
              " 'TechSupport',\n",
              " 'StreamingTV',\n",
              " 'StreamingMovies',\n",
              " 'Contract',\n",
              " 'PaperlessBilling',\n",
              " 'PaymentMethod',\n",
              " 'Churn']"
            ]
          },
          "execution_count": 87,
          "metadata": {},
          "output_type": "execute_result"
        }
      ],
      "source": [
        "# Variable categorielles\n",
        "categorical_columns = df.nunique()[df.nunique() < 5].keys().to_list()\n",
        "categorical_columns"
      ]
    },
    {
      "cell_type": "code",
      "execution_count": 88,
      "metadata": {
        "id": "HxTSwakVAcsM"
      },
      "outputs": [],
      "source": [
        "# Création d'une fonction de construction de graphique à barres et de manière interactive\n",
        "def bar_plot(Variable):\n",
        "  plt.rcParams[\"figure.figsize\"] = (7, 4)\n",
        "  sns.set_style(\"darkgrid\")\n",
        "  df[Variable].value_counts(normalize = True).plot(kind = 'bar', color = 'violet')\n",
        "  plt.ylabel('proportion', size = 14)\n",
        "  plt.title('Distribution of '+ str(Variable), size = 16 )\n",
        "  return plt.show()\n"
      ]
    },
    {
      "cell_type": "code",
      "execution_count": 89,
      "metadata": {
        "colab": {
          "base_uri": "https://localhost:8080/",
          "height": 358,
          "referenced_widgets": [
            "e4da5d3087c84fbb82c0eee341f9a892",
            "7ee00d14b7cc4050885475754519d3a8",
            "74ea9a92b4f048e0abb7009a16648dc2",
            "9fa885dfe780443bbdf556ff583ffe86",
            "449c60529c7447a7b5dc40bca9105b78",
            "c852cf05b060413896b8e5d10c8ec81f",
            "28fa53b4e94b4a84992d6dd0a026274d"
          ]
        },
        "id": "sdADXHbDA0VK",
        "outputId": "beb44c34-0a29-4bb1-a407-3ef961edf0f1"
      },
      "outputs": [
        {
          "data": {
            "application/vnd.jupyter.widget-view+json": {
              "model_id": "3a8017caacf2440497ac191bdf2f8779",
              "version_major": 2,
              "version_minor": 0
            },
            "text/plain": [
              "interactive(children=(Dropdown(description='Variable', options=('gender', 'SeniorCitizen', 'Partner', 'Depende…"
            ]
          },
          "metadata": {},
          "output_type": "display_data"
        },
        {
          "data": {
            "text/plain": [
              "<function __main__.bar_plot(Variable)>"
            ]
          },
          "execution_count": 89,
          "metadata": {},
          "output_type": "execute_result"
        }
      ],
      "source": [
        "# Interact\n",
        "interact(bar_plot, Variable = categorical_columns)"
      ]
    },
    {
      "cell_type": "markdown",
      "metadata": {
        "id": "EHRVdwbqHEKa"
      },
      "source": [
        "Vous pouvez interagir avec le notebook en sélectionnant la variable catégorielle qui vous intéresse afin de visualiser sa distribution à travers le graphique à barre. \n",
        "\n",
        "Voici quelques informations importantes qu'on peut tirer des graphiques ci-dessus :\n",
        "* **Il y a plus de clients qui ne se sont pas désabonnés (plus de 70%)** que de clients qui se sont désabonné (moins de 30%). Donc nous\n",
        "avons un problème de déséquilibre qu'il faudra absolument résoudre car cela peut impacter négativement la performance des modèles de\n",
        "classification que nous allons construire.\n",
        "* **la distribution des données entre les différents sexes est à peu près également répartie**.\n",
        "* **Le nombre de clients qui sont des personnes âgées (moins de 20%) est bien inférieur à celui des clients jeunes (plus de 80%).**\n",
        "* **La variable Partner indique si le client a un partenaire (Yes) ou pas (No). Les deux catégories ont pratiquement la même proportion**.\n",
        "Répétons le même processus cette fois-ci pour les variables numériques.\n"
      ]
    },
    {
      "cell_type": "markdown",
      "metadata": {
        "id": "Ts9pOwaKRH5X"
      },
      "source": [
        "Essayons de comprendre pourquoi Pandas considère la variable 'TotalCharges' comme étant une variable de type object (caractère)"
      ]
    },
    {
      "cell_type": "code",
      "execution_count": 90,
      "metadata": {
        "colab": {
          "base_uri": "https://localhost:8080/"
        },
        "id": "AHCbxQL3KSr_",
        "outputId": "bf93da11-4be4-434e-d303-21f937cdc2a5"
      },
      "outputs": [
        {
          "data": {
            "text/plain": [
              "5443    1233.15\n",
              "6474     124.45\n",
              "6549      56.25\n",
              "5496    1077.95\n",
              "2645       19.8\n",
              "448      759.55\n",
              "3674       45.8\n",
              "2166     5483.9\n",
              "923     4786.15\n",
              "2792      736.8\n",
              "Name: TotalCharges, dtype: object"
            ]
          },
          "execution_count": 90,
          "metadata": {},
          "output_type": "execute_result"
        }
      ],
      "source": [
        "# Echantillonnement aléatoire de la variable 'TotalCharges'\n",
        "df['TotalCharges'].sample(10)"
      ]
    },
    {
      "cell_type": "markdown",
      "metadata": {
        "id": "oO1twAG6Nk1c"
      },
      "source": [
        "Apparemmment c'est à cause de la présence d'espace au niveau de la variable **TotalCharges** que Pandas la considere comme une variable avec des valeur de type object (chaine de caractère).\n",
        "\n",
        "Donc nous allons remplacer ses espaces par des NaN (Not a Number) et transformer le type de ses valeurs en float (décimal)."
      ]
    },
    {
      "cell_type": "code",
      "execution_count": 91,
      "metadata": {
        "id": "mFaZeXxoRmM5"
      },
      "outputs": [],
      "source": [
        "# Variables quantitatives\n",
        "numerical_columns = ['tenure', 'MonthlyCharges', 'TotalCharges']\n",
        "\n",
        "# Création d'une fonction de construction d'histogrammes et de manière interactive\n",
        "def hist_plot(Variables):\n",
        "  plt.rcParams[\"figure.figsize\"] = (7, 4)\n",
        "  sns.set_style(\"darkgrid\")\n",
        "  sns.distplot(df[Variables], kde =False)\n",
        "  plt.title('Histogramme of '+ str(Variables), size = 16)\n",
        "  return plt.show()\n",
        "\n",
        "\n",
        "# Conversion du type des valeurs de la variable 'TotalCharges' en float\n",
        "df['TotalCharges'] = df['TotalCharges'].replace(' ', np.nan).astype(float)"
      ]
    },
    {
      "cell_type": "code",
      "execution_count": 92,
      "metadata": {
        "colab": {
          "base_uri": "https://localhost:8080/",
          "height": 398,
          "referenced_widgets": [
            "191ebffb10584dc183edf069713a9311",
            "673bbba5cced487eb3d2c4abd2a40611",
            "71e8f6aa6a4a4d7580371b2b7f67e463",
            "5327ec5864a344e0bdf7775aefee5902",
            "9d817f80b06f4ded8879dbb1e1ca7809",
            "23d15402b173490a9fb194a319ae3bf7",
            "abed2ab7387141edb7d747a9019946d6"
          ]
        },
        "id": "QsEv-jrCUmz8",
        "outputId": "6e92f142-4ec1-4037-c26a-c30ed85c88e6"
      },
      "outputs": [
        {
          "data": {
            "application/vnd.jupyter.widget-view+json": {
              "model_id": "60854139c1104c3c9f0197e6c26b120a",
              "version_major": 2,
              "version_minor": 0
            },
            "text/plain": [
              "interactive(children=(Dropdown(description='Variables', options=('tenure', 'MonthlyCharges', 'TotalCharges'), …"
            ]
          },
          "metadata": {},
          "output_type": "display_data"
        }
      ],
      "source": [
        "# Interact\n",
        "interact(hist_plot, Variables = numerical_columns);"
      ]
    },
    {
      "cell_type": "code",
      "execution_count": 93,
      "metadata": {
        "colab": {
          "base_uri": "https://localhost:8080/"
        },
        "id": "6vS0PXvYVXx2",
        "outputId": "a75cb3fe-4241-4164-a67a-10fe22174cae"
      },
      "outputs": [
        {
          "data": {
            "text/plain": [
              "0.961642499724251"
            ]
          },
          "execution_count": 93,
          "metadata": {},
          "output_type": "execute_result"
        }
      ],
      "source": [
        "# Coefficient d'asymetrie de la variable 'TotalCharges'\n",
        "df['TotalCharges'].skew()"
      ]
    },
    {
      "cell_type": "code",
      "execution_count": 94,
      "metadata": {
        "id": "hzVl-6AUV2mK"
      },
      "outputs": [],
      "source": [
        "# Création d'une fonction de construction de boites à moustaches et de manière interactive\n",
        "def box_plot (Variable):\n",
        "  plt.rcParams[\"figure.figsize\"] = (7, 4)\n",
        "  sns.set_style(\"darkgrid\")\n",
        "  sns.boxplot(y = df[Variable], color ='yellow')\n",
        "  plt.title('Boxplot of '+ str(Variable), size = 16)\n",
        "  return plt.show()"
      ]
    },
    {
      "cell_type": "code",
      "execution_count": 95,
      "metadata": {
        "colab": {
          "base_uri": "https://localhost:8080/",
          "height": 298,
          "referenced_widgets": [
            "0b4a7cfaacf54b279cf27a100dcb67da",
            "10e8413b1c314c9cbcf86bd45de910a9",
            "cc8ad5803f674bc6852488ad541e0d85",
            "6d0fca894f8049feb765a3a3207be0c6",
            "9c57206bf8764abb925a161e628a4cba",
            "b45c2a7e7c62475c9e6a66e0d1beccb3",
            "30f93c6221ac4bff97dd116543a0b286"
          ]
        },
        "id": "KPbZn0lGW-3v",
        "outputId": "655936de-7927-4473-a805-ac9ce883dcfb"
      },
      "outputs": [
        {
          "data": {
            "application/vnd.jupyter.widget-view+json": {
              "model_id": "37d1ab9a5de74e958959302ef4feb883",
              "version_major": 2,
              "version_minor": 0
            },
            "text/plain": [
              "interactive(children=(Dropdown(description='Variable', options=('tenure', 'MonthlyCharges', 'TotalCharges'), v…"
            ]
          },
          "metadata": {},
          "output_type": "display_data"
        }
      ],
      "source": [
        "# Interact\n",
        "interact(box_plot, Variable = numerical_columns);"
      ]
    },
    {
      "cell_type": "markdown",
      "metadata": {
        "id": "n-LwlCJkYBbo"
      },
      "source": [
        "Nous remarquons que ces variables continues, bien que ne présentant pas de valeurs aberrantes (outliers) sont très asymétriques ce qui peut\n",
        "causer des erreurs au niveau des modèles que nous allons construire.\n",
        "\n",
        "Nous pouvons appliquer des fonctions de transformation à ces variables afin de les rendre moins asymétrique.\n",
        "\n",
        "Nous avons une compréhension de la distribution de chaque variable dans notre jeu de données.\n",
        "\n",
        "Maintenant, faisons des analyse bivariées."
      ]
    },
    {
      "cell_type": "code",
      "execution_count": 96,
      "metadata": {
        "colab": {
          "base_uri": "https://localhost:8080/",
          "height": 298
        },
        "id": "gkyHdVALZZir",
        "outputId": "f46866f9-172c-4a1e-eb5c-992df4d718ca"
      },
      "outputs": [
        {
          "data": {
            "image/png": "[encoded data removed]",
            "text/plain": [
              "<Figure size 700x400 with 1 Axes>"
            ]
          },
          "metadata": {},
          "output_type": "display_data"
        }
      ],
      "source": [
        "# TotaCharges VS Churn\n",
        "sns.boxplot(x ='Churn', y = 'TotalCharges', data = df)\n",
        "plt.xlabel('Desabonnement', size =12)\n",
        "plt.ylabel('Facture total')\n",
        "plt.title('Montant total facturé au client')\n",
        "plt.show()"
      ]
    },
    {
      "cell_type": "code",
      "execution_count": 97,
      "metadata": {
        "colab": {
          "base_uri": "https://localhost:8080/",
          "height": 301
        },
        "id": "JBGsc1GHcEDW",
        "outputId": "586e1e02-d27d-4280-f315-f7d05ba2ba9d"
      },
      "outputs": [
        {
          "data": {
            "image/png": "[encoded data removed]",
            "text/plain": [
              "<Figure size 700x400 with 1 Axes>"
            ]
          },
          "metadata": {},
          "output_type": "display_data"
        }
      ],
      "source": [
        "# MonthlyCharges VS Churn\n",
        "sns.boxplot(x ='Churn', y = 'MonthlyCharges', data = df)\n",
        "plt.xlabel('Desabonnement', size =14)\n",
        "plt.ylabel('Facture mensuelle')\n",
        "plt.title('Montant facturé mensuellement au client', size =16)\n",
        "plt.show()"
      ]
    },
    {
      "cell_type": "markdown",
      "metadata": {
        "id": "31MgEKtIcx4R"
      },
      "source": [
        "Le montant total facturé aux clients qui ont résilié leur contrat est inférieur au montant total facturé aux clients qui ne l'ont pas fait. Ce resultat est tout à fait normal, car plus un client reste longtemps fidèle à une entreprise, plus le montant total qui lui est facturé sur toute la période, est élevé.\n",
        "\n",
        "Mais, le deuxième graphique montre que **les clients qui se sont désabonnés sont plus facturés mensuellement que les clients qui ne se sont pas désabonnés.** \n",
        "\n",
        "Cette information est très importante pour l'entreprise car le montant facturé mensuellement peut être un facteur important qui détermine si un client va se désabonner ou non. Mais aussi, que l'entreprise à plus à gagner sur le long terme en fidélisant ses clients."
      ]
    },
    {
      "cell_type": "code",
      "execution_count": 98,
      "metadata": {
        "colab": {
          "base_uri": "https://localhost:8080/",
          "height": 301
        },
        "id": "OYm7JlvOdf3x",
        "outputId": "ab0bee0b-827c-42ff-cb3e-6cf5623842ef"
      },
      "outputs": [
        {
          "data": {
            "image/png": "[encoded data removed]",
            "text/plain": [
              "<Figure size 700x400 with 1 Axes>"
            ]
          },
          "metadata": {},
          "output_type": "display_data"
        }
      ],
      "source": [
        "# tenure VS Churn\n",
        "sns.boxplot(x ='Churn', y = 'tenure', data = df)\n",
        "plt.xlabel('Desabonnement', size =12)\n",
        "plt.ylabel('Nombre de mois')\n",
        "plt.title(\"Nombre de mois pendant lequel le client est resté fidèle a l'entreprise\", size =16)\n",
        "plt.show()"
      ]
    },
    {
      "cell_type": "code",
      "execution_count": 99,
      "metadata": {
        "colab": {
          "base_uri": "https://localhost:8080/",
          "height": 301
        },
        "id": "i723eAmjgn5v",
        "outputId": "e10e9a3b-a3ca-4e92-938e-5193bb2c23ad"
      },
      "outputs": [
        {
          "data": {
            "image/png": "[encoded data removed]",
            "text/plain": [
              "<Figure size 700x400 with 1 Axes>"
            ]
          },
          "metadata": {},
          "output_type": "display_data"
        }
      ],
      "source": [
        "# MonthlyCharges VS Churn by SeniorCitizen\n",
        "sns.boxplot( x = 'Churn', y = 'MonthlyCharges', data = df, hue = 'SeniorCitizen')\n",
        "plt.xlabel('Desabonnement', size =12)\n",
        "plt.ylabel('MonthlyCharges', size =12)\n",
        "plt.title(\"Désabonnement des clients en fonction du montant mensuelle à charge et de l'âge\", size =16)\n",
        "plt.show()"
      ]
    },
    {
      "cell_type": "markdown",
      "metadata": {
        "id": "cPHsNIa9hqw0"
      },
      "source": [
        "Il semble que les personnes âgées soit beaucoup plus facturé mensuellemnt que les jeunes. Malgré cela, ils restent plus fidèles à l'entreprise que les jeunes."
      ]
    },
    {
      "cell_type": "code",
      "execution_count": 100,
      "metadata": {
        "colab": {
          "base_uri": "https://localhost:8080/",
          "height": 301
        },
        "id": "BwNT7ZwRjkCj",
        "outputId": "7952bb31-182d-4ed3-887d-db90c8da1df9"
      },
      "outputs": [
        {
          "data": {
            "image/png": "[encoded data removed]",
            "text/plain": [
              "<Figure size 700x400 with 1 Axes>"
            ]
          },
          "metadata": {},
          "output_type": "display_data"
        }
      ],
      "source": [
        "# MonthlyCharges VS Churn by Dependents\n",
        "sns.boxplot( x = 'Churn', y = 'MonthlyCharges', data = df, hue = 'Dependents')\n",
        "plt.xlabel('Desabonnement', size =12)\n",
        "plt.ylabel('MonthlyCharges', size =12)\n",
        "plt.title(\"Désabonnement des clients en fonction du montant mensuelle à charge et du nombre de personne a charge\", size =16)\n",
        "plt.show()"
      ]
    },
    {
      "cell_type": "markdown",
      "metadata": {
        "id": "2PVKzsxhkIIN"
      },
      "source": [
        "Resumé statistique"
      ]
    },
    {
      "cell_type": "code",
      "execution_count": 101,
      "metadata": {
        "colab": {
          "base_uri": "https://localhost:8080/",
          "height": 300
        },
        "id": "-WC-ux7Rk4XP",
        "outputId": "57a17e49-7fa7-4efc-9a40-eba6c77f28c9"
      },
      "outputs": [
        {
          "data": {
            "text/html": [
              "<div>\n",
              "<style scoped>\n",
              "    .dataframe tbody tr th:only-of-type {\n",
              "        vertical-align: middle;\n",
              "    }\n",
              "\n",
              "    .dataframe tbody tr th {\n",
              "        vertical-align: top;\n",
              "    }\n",
              "\n",
              "    .dataframe thead th {\n",
              "        text-align: right;\n",
              "    }\n",
              "</style>\n",
              "<table border=\"1\" class=\"dataframe\">\n",
              "  <thead>\n",
              "    <tr style=\"text-align: right;\">\n",
              "      <th></th>\n",
              "      <th>SeniorCitizen</th>\n",
              "      <th>tenure</th>\n",
              "      <th>MonthlyCharges</th>\n",
              "      <th>TotalCharges</th>\n",
              "    </tr>\n",
              "  </thead>\n",
              "  <tbody>\n",
              "    <tr>\n",
              "      <th>count</th>\n",
              "      <td>7043.000000</td>\n",
              "      <td>7043.000000</td>\n",
              "      <td>7043.000000</td>\n",
              "      <td>7032.000000</td>\n",
              "    </tr>\n",
              "    <tr>\n",
              "      <th>mean</th>\n",
              "      <td>0.162147</td>\n",
              "      <td>32.371149</td>\n",
              "      <td>64.761692</td>\n",
              "      <td>2283.300441</td>\n",
              "    </tr>\n",
              "    <tr>\n",
              "      <th>std</th>\n",
              "      <td>0.368612</td>\n",
              "      <td>24.559481</td>\n",
              "      <td>30.090047</td>\n",
              "      <td>2266.771362</td>\n",
              "    </tr>\n",
              "    <tr>\n",
              "      <th>min</th>\n",
              "      <td>0.000000</td>\n",
              "      <td>0.000000</td>\n",
              "      <td>18.250000</td>\n",
              "      <td>18.800000</td>\n",
              "    </tr>\n",
              "    <tr>\n",
              "      <th>25%</th>\n",
              "      <td>0.000000</td>\n",
              "      <td>9.000000</td>\n",
              "      <td>35.500000</td>\n",
              "      <td>401.450000</td>\n",
              "    </tr>\n",
              "    <tr>\n",
              "      <th>50%</th>\n",
              "      <td>0.000000</td>\n",
              "      <td>29.000000</td>\n",
              "      <td>70.350000</td>\n",
              "      <td>1397.475000</td>\n",
              "    </tr>\n",
              "    <tr>\n",
              "      <th>75%</th>\n",
              "      <td>0.000000</td>\n",
              "      <td>55.000000</td>\n",
              "      <td>89.850000</td>\n",
              "      <td>3794.737500</td>\n",
              "    </tr>\n",
              "    <tr>\n",
              "      <th>max</th>\n",
              "      <td>1.000000</td>\n",
              "      <td>72.000000</td>\n",
              "      <td>118.750000</td>\n",
              "      <td>8684.800000</td>\n",
              "    </tr>\n",
              "  </tbody>\n",
              "</table>\n",
              "</div>"
            ],
            "text/plain": [
              "       SeniorCitizen       tenure  MonthlyCharges  TotalCharges\n",
              "count    7043.000000  7043.000000     7043.000000   7032.000000\n",
              "mean        0.162147    32.371149       64.761692   2283.300441\n",
              "std         0.368612    24.559481       30.090047   2266.771362\n",
              "min         0.000000     0.000000       18.250000     18.800000\n",
              "25%         0.000000     9.000000       35.500000    401.450000\n",
              "50%         0.000000    29.000000       70.350000   1397.475000\n",
              "75%         0.000000    55.000000       89.850000   3794.737500\n",
              "max         1.000000    72.000000      118.750000   8684.800000"
            ]
          },
          "execution_count": 101,
          "metadata": {},
          "output_type": "execute_result"
        }
      ],
      "source": [
        "# Résumé statistique\n",
        "df.describe()"
      ]
    },
    {
      "cell_type": "markdown",
      "metadata": {
        "id": "FNWgk-P9k5CV"
      },
      "source": [
        "Comme vous l'avez remarqué, les trois variables quantitatives (**tenure, MonthlyCharges, et TotalCharges**) ont différentes échelles. tenure varie\n",
        "entre 0 et 72 tandis que MonthlyCharges varie entre 18.25 et 118.75 et TotalCharges varie entre 18.8 et 8684.8. De nombreux modèles de\n",
        "Machine et de Deep Learning fonctionnent mieux avec des variables standardisées ou normalisées.\n",
        "\n",
        "Nous traiterons de la standardisation des données dans la section de prétraitement des données."
      ]
    },
    {
      "cell_type": "markdown",
      "metadata": {
        "id": "KWyudPN4oETv"
      },
      "source": [
        "## Prétraitement des données"
      ]
    },
    {
      "cell_type": "code",
      "execution_count": 102,
      "metadata": {
        "colab": {
          "base_uri": "https://localhost:8080/"
        },
        "id": "kLcako-8oWwJ",
        "outputId": "b7d10c68-4623-4406-b2e5-252247fd3f76"
      },
      "outputs": [
        {
          "data": {
            "text/plain": [
              "customerID           0\n",
              "gender               0\n",
              "SeniorCitizen        0\n",
              "Partner              0\n",
              "Dependents           0\n",
              "tenure               0\n",
              "PhoneService         0\n",
              "MultipleLines        0\n",
              "InternetService      0\n",
              "OnlineSecurity       0\n",
              "OnlineBackup         0\n",
              "DeviceProtection     0\n",
              "TechSupport          0\n",
              "StreamingTV          0\n",
              "StreamingMovies      0\n",
              "Contract             0\n",
              "PaperlessBilling     0\n",
              "PaymentMethod        0\n",
              "MonthlyCharges       0\n",
              "TotalCharges        11\n",
              "Churn                0\n",
              "dtype: int64"
            ]
          },
          "execution_count": 102,
          "metadata": {},
          "output_type": "execute_result"
        }
      ],
      "source": [
        "# Gestion des valeurs manquantes\n",
        "data = df.copy()\n",
        "\n",
        "# Nombre de valeurs manquantes par variable\n",
        "data.isna().sum()"
      ]
    },
    {
      "cell_type": "code",
      "execution_count": 103,
      "metadata": {
        "id": "F8cYESxIgG3h"
      },
      "outputs": [],
      "source": [
        "# Suppression de valeurs manquantes\n",
        "data.dropna(inplace = True)"
      ]
    },
    {
      "cell_type": "markdown",
      "metadata": {
        "id": "6VcgX5MagTq7"
      },
      "source": [
        "Encodage des variables catégorielles"
      ]
    },
    {
      "cell_type": "code",
      "execution_count": 104,
      "metadata": {
        "colab": {
          "base_uri": "https://localhost:8080/"
        },
        "id": "bpS_KHcRgaOm",
        "outputId": "6ac037fc-897c-4191-c2d1-35acf67a06ad"
      },
      "outputs": [
        {
          "data": {
            "text/plain": [
              "['SeniorCitizen',\n",
              " 'Partner',\n",
              " 'Dependents',\n",
              " 'PhoneService',\n",
              " 'PaperlessBilling',\n",
              " 'Churn']"
            ]
          },
          "execution_count": 104,
          "metadata": {},
          "output_type": "execute_result"
        }
      ],
      "source": [
        "# Encodage de la variables binaire gender\n",
        "data['gender'] = data['gender'].apply(lambda row: 1 if row == 'Male' else 0)\n",
        "\n",
        "# Création d'une liste contenant tout les variables binaire excepter gender\n",
        "binary_columns = data.drop('gender', axis=1).nunique()[data.drop('gender', axis=1).nunique() < 3].keys().to_list()\n",
        "binary_columns"
      ]
    },
    {
      "cell_type": "code",
      "execution_count": 105,
      "metadata": {
        "id": "lifd3T7fjhro"
      },
      "outputs": [],
      "source": [
        "# Encodage de la liste des variables binaire\n",
        "for column in binary_columns:\n",
        "  data[column] = data[column].apply(lambda row: 1 if row == 'Yes' else 0)"
      ]
    },
    {
      "cell_type": "code",
      "execution_count": 106,
      "metadata": {
        "id": "yxo6Ra9NlFNo"
      },
      "outputs": [],
      "source": [
        "# liste contenant les variables categorielles de plus de trois modalités\n",
        "remaining_cat_vars = data[categorical_columns].nunique()[data[categorical_columns].nunique() > 2].keys().to_list()\n",
        "\n",
        "#Encodage des variables categorielles restante\n",
        "remaining_cat_vars_dummies = pd.get_dummies(data = data[remaining_cat_vars], columns = remaining_cat_vars, drop_first=True)"
      ]
    },
    {
      "cell_type": "code",
      "execution_count": 107,
      "metadata": {
        "colab": {
          "base_uri": "https://localhost:8080/",
          "height": 474
        },
        "id": "a5eZfRZynAWK",
        "outputId": "98723783-55fe-4d1d-eedf-8cca0e993c96"
      },
      "outputs": [
        {
          "data": {
            "text/html": [
              "<div>\n",
              "<style scoped>\n",
              "    .dataframe tbody tr th:only-of-type {\n",
              "        vertical-align: middle;\n",
              "    }\n",
              "\n",
              "    .dataframe tbody tr th {\n",
              "        vertical-align: top;\n",
              "    }\n",
              "\n",
              "    .dataframe thead th {\n",
              "        text-align: right;\n",
              "    }\n",
              "</style>\n",
              "<table border=\"1\" class=\"dataframe\">\n",
              "  <thead>\n",
              "    <tr style=\"text-align: right;\">\n",
              "      <th></th>\n",
              "      <th>gender</th>\n",
              "      <th>SeniorCitizen</th>\n",
              "      <th>Partner</th>\n",
              "      <th>Dependents</th>\n",
              "      <th>PhoneService</th>\n",
              "      <th>PaperlessBilling</th>\n",
              "      <th>Churn</th>\n",
              "      <th>MultipleLines_No phone service</th>\n",
              "      <th>MultipleLines_Yes</th>\n",
              "      <th>InternetService_Fiber optic</th>\n",
              "      <th>...</th>\n",
              "      <th>StreamingMovies_No internet service</th>\n",
              "      <th>StreamingMovies_Yes</th>\n",
              "      <th>Contract_One year</th>\n",
              "      <th>Contract_Two year</th>\n",
              "      <th>PaymentMethod_Credit card (automatic)</th>\n",
              "      <th>PaymentMethod_Electronic check</th>\n",
              "      <th>PaymentMethod_Mailed check</th>\n",
              "      <th>tenure</th>\n",
              "      <th>MonthlyCharges</th>\n",
              "      <th>TotalCharges</th>\n",
              "    </tr>\n",
              "  </thead>\n",
              "  <tbody>\n",
              "    <tr>\n",
              "      <th>0</th>\n",
              "      <td>0</td>\n",
              "      <td>0</td>\n",
              "      <td>1</td>\n",
              "      <td>0</td>\n",
              "      <td>0</td>\n",
              "      <td>1</td>\n",
              "      <td>0</td>\n",
              "      <td>1</td>\n",
              "      <td>0</td>\n",
              "      <td>0</td>\n",
              "      <td>...</td>\n",
              "      <td>0</td>\n",
              "      <td>0</td>\n",
              "      <td>0</td>\n",
              "      <td>0</td>\n",
              "      <td>0</td>\n",
              "      <td>1</td>\n",
              "      <td>0</td>\n",
              "      <td>1</td>\n",
              "      <td>29.85</td>\n",
              "      <td>29.85</td>\n",
              "    </tr>\n",
              "    <tr>\n",
              "      <th>1</th>\n",
              "      <td>1</td>\n",
              "      <td>0</td>\n",
              "      <td>0</td>\n",
              "      <td>0</td>\n",
              "      <td>1</td>\n",
              "      <td>0</td>\n",
              "      <td>0</td>\n",
              "      <td>0</td>\n",
              "      <td>0</td>\n",
              "      <td>0</td>\n",
              "      <td>...</td>\n",
              "      <td>0</td>\n",
              "      <td>0</td>\n",
              "      <td>1</td>\n",
              "      <td>0</td>\n",
              "      <td>0</td>\n",
              "      <td>0</td>\n",
              "      <td>1</td>\n",
              "      <td>34</td>\n",
              "      <td>56.95</td>\n",
              "      <td>1889.50</td>\n",
              "    </tr>\n",
              "    <tr>\n",
              "      <th>2</th>\n",
              "      <td>1</td>\n",
              "      <td>0</td>\n",
              "      <td>0</td>\n",
              "      <td>0</td>\n",
              "      <td>1</td>\n",
              "      <td>1</td>\n",
              "      <td>1</td>\n",
              "      <td>0</td>\n",
              "      <td>0</td>\n",
              "      <td>0</td>\n",
              "      <td>...</td>\n",
              "      <td>0</td>\n",
              "      <td>0</td>\n",
              "      <td>0</td>\n",
              "      <td>0</td>\n",
              "      <td>0</td>\n",
              "      <td>0</td>\n",
              "      <td>1</td>\n",
              "      <td>2</td>\n",
              "      <td>53.85</td>\n",
              "      <td>108.15</td>\n",
              "    </tr>\n",
              "    <tr>\n",
              "      <th>3</th>\n",
              "      <td>1</td>\n",
              "      <td>0</td>\n",
              "      <td>0</td>\n",
              "      <td>0</td>\n",
              "      <td>0</td>\n",
              "      <td>0</td>\n",
              "      <td>0</td>\n",
              "      <td>1</td>\n",
              "      <td>0</td>\n",
              "      <td>0</td>\n",
              "      <td>...</td>\n",
              "      <td>0</td>\n",
              "      <td>0</td>\n",
              "      <td>1</td>\n",
              "      <td>0</td>\n",
              "      <td>0</td>\n",
              "      <td>0</td>\n",
              "      <td>0</td>\n",
              "      <td>45</td>\n",
              "      <td>42.30</td>\n",
              "      <td>1840.75</td>\n",
              "    </tr>\n",
              "    <tr>\n",
              "      <th>4</th>\n",
              "      <td>0</td>\n",
              "      <td>0</td>\n",
              "      <td>0</td>\n",
              "      <td>0</td>\n",
              "      <td>1</td>\n",
              "      <td>1</td>\n",
              "      <td>1</td>\n",
              "      <td>0</td>\n",
              "      <td>0</td>\n",
              "      <td>1</td>\n",
              "      <td>...</td>\n",
              "      <td>0</td>\n",
              "      <td>0</td>\n",
              "      <td>0</td>\n",
              "      <td>0</td>\n",
              "      <td>0</td>\n",
              "      <td>1</td>\n",
              "      <td>0</td>\n",
              "      <td>2</td>\n",
              "      <td>70.70</td>\n",
              "      <td>151.65</td>\n",
              "    </tr>\n",
              "    <tr>\n",
              "      <th>5</th>\n",
              "      <td>0</td>\n",
              "      <td>0</td>\n",
              "      <td>0</td>\n",
              "      <td>0</td>\n",
              "      <td>1</td>\n",
              "      <td>1</td>\n",
              "      <td>1</td>\n",
              "      <td>0</td>\n",
              "      <td>1</td>\n",
              "      <td>1</td>\n",
              "      <td>...</td>\n",
              "      <td>0</td>\n",
              "      <td>1</td>\n",
              "      <td>0</td>\n",
              "      <td>0</td>\n",
              "      <td>0</td>\n",
              "      <td>1</td>\n",
              "      <td>0</td>\n",
              "      <td>8</td>\n",
              "      <td>99.65</td>\n",
              "      <td>820.50</td>\n",
              "    </tr>\n",
              "    <tr>\n",
              "      <th>6</th>\n",
              "      <td>1</td>\n",
              "      <td>0</td>\n",
              "      <td>0</td>\n",
              "      <td>1</td>\n",
              "      <td>1</td>\n",
              "      <td>1</td>\n",
              "      <td>0</td>\n",
              "      <td>0</td>\n",
              "      <td>1</td>\n",
              "      <td>1</td>\n",
              "      <td>...</td>\n",
              "      <td>0</td>\n",
              "      <td>0</td>\n",
              "      <td>0</td>\n",
              "      <td>0</td>\n",
              "      <td>1</td>\n",
              "      <td>0</td>\n",
              "      <td>0</td>\n",
              "      <td>22</td>\n",
              "      <td>89.10</td>\n",
              "      <td>1949.40</td>\n",
              "    </tr>\n",
              "    <tr>\n",
              "      <th>7</th>\n",
              "      <td>0</td>\n",
              "      <td>0</td>\n",
              "      <td>0</td>\n",
              "      <td>0</td>\n",
              "      <td>0</td>\n",
              "      <td>0</td>\n",
              "      <td>0</td>\n",
              "      <td>1</td>\n",
              "      <td>0</td>\n",
              "      <td>0</td>\n",
              "      <td>...</td>\n",
              "      <td>0</td>\n",
              "      <td>0</td>\n",
              "      <td>0</td>\n",
              "      <td>0</td>\n",
              "      <td>0</td>\n",
              "      <td>0</td>\n",
              "      <td>1</td>\n",
              "      <td>10</td>\n",
              "      <td>29.75</td>\n",
              "      <td>301.90</td>\n",
              "    </tr>\n",
              "    <tr>\n",
              "      <th>8</th>\n",
              "      <td>0</td>\n",
              "      <td>0</td>\n",
              "      <td>1</td>\n",
              "      <td>0</td>\n",
              "      <td>1</td>\n",
              "      <td>1</td>\n",
              "      <td>1</td>\n",
              "      <td>0</td>\n",
              "      <td>1</td>\n",
              "      <td>1</td>\n",
              "      <td>...</td>\n",
              "      <td>0</td>\n",
              "      <td>1</td>\n",
              "      <td>0</td>\n",
              "      <td>0</td>\n",
              "      <td>0</td>\n",
              "      <td>1</td>\n",
              "      <td>0</td>\n",
              "      <td>28</td>\n",
              "      <td>104.80</td>\n",
              "      <td>3046.05</td>\n",
              "    </tr>\n",
              "    <tr>\n",
              "      <th>9</th>\n",
              "      <td>1</td>\n",
              "      <td>0</td>\n",
              "      <td>0</td>\n",
              "      <td>1</td>\n",
              "      <td>1</td>\n",
              "      <td>0</td>\n",
              "      <td>0</td>\n",
              "      <td>0</td>\n",
              "      <td>0</td>\n",
              "      <td>0</td>\n",
              "      <td>...</td>\n",
              "      <td>0</td>\n",
              "      <td>0</td>\n",
              "      <td>1</td>\n",
              "      <td>0</td>\n",
              "      <td>0</td>\n",
              "      <td>0</td>\n",
              "      <td>0</td>\n",
              "      <td>62</td>\n",
              "      <td>56.15</td>\n",
              "      <td>3487.95</td>\n",
              "    </tr>\n",
              "  </tbody>\n",
              "</table>\n",
              "<p>10 rows × 31 columns</p>\n",
              "</div>"
            ],
            "text/plain": [
              "   gender  SeniorCitizen  Partner  Dependents  PhoneService  PaperlessBilling  \\\n",
              "0       0              0        1           0             0                 1   \n",
              "1       1              0        0           0             1                 0   \n",
              "2       1              0        0           0             1                 1   \n",
              "3       1              0        0           0             0                 0   \n",
              "4       0              0        0           0             1                 1   \n",
              "5       0              0        0           0             1                 1   \n",
              "6       1              0        0           1             1                 1   \n",
              "7       0              0        0           0             0                 0   \n",
              "8       0              0        1           0             1                 1   \n",
              "9       1              0        0           1             1                 0   \n",
              "\n",
              "   Churn  MultipleLines_No phone service  MultipleLines_Yes  \\\n",
              "0      0                               1                  0   \n",
              "1      0                               0                  0   \n",
              "2      1                               0                  0   \n",
              "3      0                               1                  0   \n",
              "4      1                               0                  0   \n",
              "5      1                               0                  1   \n",
              "6      0                               0                  1   \n",
              "7      0                               1                  0   \n",
              "8      1                               0                  1   \n",
              "9      0                               0                  0   \n",
              "\n",
              "   InternetService_Fiber optic  ...  StreamingMovies_No internet service  \\\n",
              "0                            0  ...                                    0   \n",
              "1                            0  ...                                    0   \n",
              "2                            0  ...                                    0   \n",
              "3                            0  ...                                    0   \n",
              "4                            1  ...                                    0   \n",
              "5                            1  ...                                    0   \n",
              "6                            1  ...                                    0   \n",
              "7                            0  ...                                    0   \n",
              "8                            1  ...                                    0   \n",
              "9                            0  ...                                    0   \n",
              "\n",
              "   StreamingMovies_Yes  Contract_One year  Contract_Two year  \\\n",
              "0                    0                  0                  0   \n",
              "1                    0                  1                  0   \n",
              "2                    0                  0                  0   \n",
              "3                    0                  1                  0   \n",
              "4                    0                  0                  0   \n",
              "5                    1                  0                  0   \n",
              "6                    0                  0                  0   \n",
              "7                    0                  0                  0   \n",
              "8                    1                  0                  0   \n",
              "9                    0                  1                  0   \n",
              "\n",
              "   PaymentMethod_Credit card (automatic)  PaymentMethod_Electronic check  \\\n",
              "0                                      0                               1   \n",
              "1                                      0                               0   \n",
              "2                                      0                               0   \n",
              "3                                      0                               0   \n",
              "4                                      0                               1   \n",
              "5                                      0                               1   \n",
              "6                                      1                               0   \n",
              "7                                      0                               0   \n",
              "8                                      0                               1   \n",
              "9                                      0                               0   \n",
              "\n",
              "   PaymentMethod_Mailed check  tenure  MonthlyCharges  TotalCharges  \n",
              "0                           0       1           29.85         29.85  \n",
              "1                           1      34           56.95       1889.50  \n",
              "2                           1       2           53.85        108.15  \n",
              "3                           0      45           42.30       1840.75  \n",
              "4                           0       2           70.70        151.65  \n",
              "5                           0       8           99.65        820.50  \n",
              "6                           0      22           89.10       1949.40  \n",
              "7                           1      10           29.75        301.90  \n",
              "8                           0      28          104.80       3046.05  \n",
              "9                           0      62           56.15       3487.95  \n",
              "\n",
              "[10 rows x 31 columns]"
            ]
          },
          "execution_count": 107,
          "metadata": {},
          "output_type": "execute_result"
        }
      ],
      "source": [
        "# Nouvelle dataframe\n",
        "data = pd.concat([data['gender'], data[binary_columns], remaining_cat_vars_dummies, data[numerical_columns]], axis = 1)\n",
        "\n",
        "# Affichage de la DataFrame\n",
        "data.head(10)"
      ]
    },
    {
      "cell_type": "markdown",
      "metadata": {
        "id": "VIjKUS2iqECX"
      },
      "source": [
        "Nous avons vue que la variable **TotalCharge** est tres asymétrique alors transformons-la par une fonction racine carrée."
      ]
    },
    {
      "cell_type": "code",
      "execution_count": 108,
      "metadata": {
        "colab": {
          "base_uri": "https://localhost:8080/",
          "height": 334
        },
        "id": "xqvG7kVarFhA",
        "outputId": "1a911fea-0869-448a-a5e5-3163aec44c18"
      },
      "outputs": [
        {
          "name": "stderr",
          "output_type": "stream",
          "text": [
            "C:\\Users\\CEDRIC ANDERSON\\AppData\\Local\\Temp\\ipykernel_6968\\3862350754.py:5: UserWarning: \n",
            "\n",
            "`distplot` is a deprecated function and will be removed in seaborn v0.14.0.\n",
            "\n",
            "Please adapt your code to use either `displot` (a figure-level function with\n",
            "similar flexibility) or `histplot` (an axes-level function for histograms).\n",
            "\n",
            "For a guide to updating your code to use the new functions, please see\n",
            "https://gist.github.com/mwaskom/de44147ed2974457ad6372750bbe5751\n",
            "\n",
            "  sns.distplot(data['TotalCharges'], kde = False);\n"
          ]
        },
        {
          "data": {
            "image/png": "[encoded data removed]",
            "text/plain": [
              "<Figure size 700x400 with 1 Axes>"
            ]
          },
          "metadata": {},
          "output_type": "display_data"
        }
      ],
      "source": [
        "# Transformation de la variable 'TotalCharges'\n",
        "data['TotalCharges'] = np.sqrt(data['TotalCharges'])\n",
        "\n",
        "# Histogramme de la variables transformée\n",
        "sns.distplot(data['TotalCharges'], kde = False);"
      ]
    },
    {
      "cell_type": "code",
      "execution_count": 109,
      "metadata": {
        "colab": {
          "base_uri": "https://localhost:8080/"
        },
        "id": "CZFSiZ40sIxY",
        "outputId": "d838970a-0105-48d8-9395-16b20be0619a"
      },
      "outputs": [
        {
          "data": {
            "text/plain": [
              "0.3089261418986736"
            ]
          },
          "execution_count": 109,
          "metadata": {},
          "output_type": "execute_result"
        }
      ],
      "source": [
        "# Coéfficient d'asymétrie de la variable 'TotalCharge' apres transformation\n",
        "data['TotalCharges'].skew()"
      ]
    },
    {
      "cell_type": "code",
      "execution_count": 110,
      "metadata": {
        "colab": {
          "base_uri": "https://localhost:8080/"
        },
        "id": "yDXL5dplssNZ",
        "outputId": "267db16e-b8ce-452d-e3e0-40e41d8e56da"
      },
      "outputs": [
        {
          "name": "stdout",
          "output_type": "stream",
          "text": [
            "x_train taille : (4219, 30)\n",
            "y_train taille : (4219,) \n",
            "\n",
            "x_val taille : (1406, 30)\n",
            "y_val taille : (1406,) \n",
            "\n",
            "x_test taille : (1407, 30)\n",
            "y_test taille : (1407,)\n"
          ]
        }
      ],
      "source": [
        "# Données d'entrainement (60%), de test (20%) et de validation (20%)\n",
        "X = data.drop('Churn', axis =1)\n",
        "Y = data['Churn']\n",
        "\n",
        "seed = 42\n",
        "\n",
        "# Données d'entrainement (60%)\n",
        "x_train, x_test, y_train, y_test = train_test_split(X, Y, random_state=seed, test_size=0.4, stratify = Y)\n",
        "\n",
        "# Données de validation(20%)\n",
        "x_val, x_test, y_val, y_test = train_test_split(x_test, y_test, random_state=seed, test_size=0.5, stratify = y_test)\n",
        "\n",
        "# Affichage de la taille des données divisés\n",
        "print(\"x_train taille :\", x_train.shape)\n",
        "print(\"y_train taille :\", y_train.shape, '\\n')\n",
        "print(\"x_val taille :\", x_val.shape)\n",
        "print(\"y_val taille :\", y_val.shape, '\\n')\n",
        "print(\"x_test taille :\", x_test.shape)\n",
        "print(\"y_test taille :\", y_test.shape)\n"
      ]
    },
    {
      "cell_type": "code",
      "execution_count": 111,
      "metadata": {},
      "outputs": [
        {
          "name": "stdout",
          "output_type": "stream",
          "text": [
            "train data_size : (4225, 21)\n",
            "validation data_size : (1409, 21)\n",
            "test data_size : (1409, 21)\n"
          ]
        }
      ],
      "source": [
        "# Données d'entrainement (60%), de test (20%) et de validation (20%)\n",
        "seed = 42\n",
        "\n",
        "# Données d'entrainement (60%)\n",
        "train, test = train_test_split(df, random_state=seed, test_size=0.4, stratify = df['Churn'])\n",
        "\n",
        "# Données de validation(20%)\n",
        "test, validation = train_test_split(test, random_state=seed, test_size=0.5, stratify = test['Churn'])\n",
        "\n",
        "# Affichage de la taille des données divisés\n",
        "print(\"train data_size :\", train.shape)\n",
        "print(\"validation data_size :\", validation.shape)\n",
        "print(\"test data_size :\", test.shape)\n",
        "\n",
        "\n",
        "# Enregistrement des different ensemble de données\n",
        "train.to_csv('./data/train.csv', index=False)\n",
        "validation.to_csv('./data/validation.csv', index=False)\n",
        "test.to_csv('./data/test.csv', index=False)"
      ]
    },
    {
      "cell_type": "markdown",
      "metadata": {
        "id": "YwFhky-Zs6Dd"
      },
      "source": [
        "Il faut s'assurer que les proportions de personnes ayant résilié ou non leur contrat soient les memes dans les différents ensemble de données."
      ]
    },
    {
      "cell_type": "code",
      "execution_count": 112,
      "metadata": {
        "colab": {
          "base_uri": "https://localhost:8080/"
        },
        "id": "ztfO1eMkmOYV",
        "outputId": "27bc2677-83be-4af8-e9c1-e49be8e35093"
      },
      "outputs": [
        {
          "data": {
            "text/plain": [
              "Churn\n",
              "0        0.734215\n",
              "1        0.265785\n",
              "dtype: float64"
            ]
          },
          "execution_count": 112,
          "metadata": {},
          "output_type": "execute_result"
        }
      ],
      "source": [
        "# Fréquence des classes dans Y\n",
        "pd.DataFrame(Y).value_counts(normalize = True)"
      ]
    },
    {
      "cell_type": "code",
      "execution_count": 113,
      "metadata": {
        "colab": {
          "base_uri": "https://localhost:8080/"
        },
        "id": "FAaLvRtQpg3t",
        "outputId": "fcf4b470-0bc2-44bc-9f13-c8d6fef9dd4f"
      },
      "outputs": [
        {
          "data": {
            "text/plain": [
              "Churn\n",
              "0        0.734297\n",
              "1        0.265703\n",
              "dtype: float64"
            ]
          },
          "execution_count": 113,
          "metadata": {},
          "output_type": "execute_result"
        }
      ],
      "source": [
        "# Fréquence des classes dans y_train\n",
        "pd.DataFrame(y_train).value_counts(normalize = True)"
      ]
    },
    {
      "cell_type": "code",
      "execution_count": 114,
      "metadata": {
        "colab": {
          "base_uri": "https://localhost:8080/"
        },
        "id": "kEqXqZvio6q_",
        "outputId": "cd78638c-f3c0-427e-a75a-4438536bee59"
      },
      "outputs": [
        {
          "data": {
            "text/plain": [
              "Churn\n",
              "0        0.734186\n",
              "1        0.265814\n",
              "dtype: float64"
            ]
          },
          "execution_count": 114,
          "metadata": {},
          "output_type": "execute_result"
        }
      ],
      "source": [
        "# Fréquence des classes dans y_test\n",
        "pd.DataFrame(y_test).value_counts(normalize = True)"
      ]
    },
    {
      "cell_type": "code",
      "execution_count": 115,
      "metadata": {
        "colab": {
          "base_uri": "https://localhost:8080/"
        },
        "id": "KwnqFJuSo7os",
        "outputId": "182cf6d4-2f2d-4fcc-d9f5-505cf957a602"
      },
      "outputs": [
        {
          "data": {
            "text/plain": [
              "Churn\n",
              "0        0.733997\n",
              "1        0.266003\n",
              "dtype: float64"
            ]
          },
          "execution_count": 115,
          "metadata": {},
          "output_type": "execute_result"
        }
      ],
      "source": [
        "# Fréquence des classes dans y_val\n",
        "pd.DataFrame(y_val).value_counts(normalize = True)"
      ]
    },
    {
      "cell_type": "markdown",
      "metadata": {
        "id": "ilD9MsYrpu-_"
      },
      "source": [
        "On a la même distribution des classe dans la repartition de nos données"
      ]
    },
    {
      "cell_type": "markdown",
      "metadata": {
        "id": "YIBSjeE-SNdM"
      },
      "source": [
        "Attaquons-nous maintenant au problème de déséquilibre de classe dans les données.\n",
        "Lorsqu'il y a une très grande différence entre le nombre d'observations dans chaque catégorie de la variable cible à prédire, cela peut entraîner\n",
        "des erreurs de modélisation.\n",
        "Dans notre cas ici, il y a un peu plus de 73% de personnes qui n'ont pas résilié leur abonnement contre environ un peu plus de 26% qui ont résilié\n",
        "leur abonnement. Il y a donc un grand déséquilibre de classe. \n",
        "\n",
        "Nous pouvons utiliser le rééchantillonnage pour créer plus d'équilibre entre les catégorie de la variable cible : \n",
        "* Soit on crée plus d'observations dans la classe minoritaire (modalité **1**) c'est-à-dire on fait un sur-échantillonnage,\n",
        "* soit on diminue les observations de la classe majoritaire (modalité **O**) c'est-à-dire un sous-échantillonnage."
      ]
    },
    {
      "cell_type": "markdown",
      "metadata": {
        "id": "KqLv2D7lcsM-"
      },
      "source": [
        "Appliquons la méthode de sur_échantillonnage sur la classe minoritaire"
      ]
    },
    {
      "cell_type": "code",
      "execution_count": 116,
      "metadata": {
        "colab": {
          "base_uri": "https://localhost:8080/"
        },
        "id": "1OaHfZpYo71P",
        "outputId": "0d6c7214-db7e-4647-95b6-0d286832288a"
      },
      "outputs": [
        {
          "data": {
            "text/plain": [
              "0    3098\n",
              "1    3098\n",
              "Name: Churn, dtype: int64"
            ]
          },
          "execution_count": 116,
          "metadata": {},
          "output_type": "execute_result"
        }
      ],
      "source": [
        "# Résolution du problème de désequilibre de classe : Méthode de sur_échantillonnage de la classe  minoritaitre\n",
        "X2 = x_train\n",
        "X2['Churn'] = y_train.values\n",
        "\n",
        "# Definition des classes\n",
        "minority = X2[X2['Churn']==1] \n",
        "majority = X2[X2['Churn']==0]\n",
        "\n",
        "# Augmentation des observations de la classe minoritaire\n",
        "minority_upsampled = resample(minority, replace = True, n_samples = len(majority), random_state = seed)\n",
        "\n",
        "# Concatenation de la classe minoritaire et majoritaire\n",
        "upsample = pd.concat([majority, minority_upsampled])\n",
        "\n",
        "# Affichage des classes de la DataFrame sur_échantillonées\n",
        "upsample['Churn'].value_counts()"
      ]
    },
    {
      "cell_type": "code",
      "execution_count": 117,
      "metadata": {
        "id": "d82MkkqQbJDp"
      },
      "outputs": [],
      "source": [
        "# Données d'entrainement sur la base de la méthode de sur_échantillonnage\n",
        "x_train_up = upsample.drop('Churn', axis = 1)\n",
        "y_train_up = upsample['Churn']"
      ]
    },
    {
      "cell_type": "markdown",
      "metadata": {
        "id": "zOoNzx68caVT"
      },
      "source": [
        "Appliquons la méthode de sous_échantillonnage sur la classe majoritaire"
      ]
    },
    {
      "cell_type": "code",
      "execution_count": 118,
      "metadata": {
        "colab": {
          "base_uri": "https://localhost:8080/"
        },
        "id": "9sh6xcdbcXeR",
        "outputId": "f08ef212-ad6d-466e-f590-0449e8a84f93"
      },
      "outputs": [
        {
          "data": {
            "text/plain": [
              "1    1121\n",
              "0    1121\n",
              "Name: Churn, dtype: int64"
            ]
          },
          "execution_count": 118,
          "metadata": {},
          "output_type": "execute_result"
        }
      ],
      "source": [
        "# Diminution des observations de la classe majoritaire\n",
        "majority_downsampled = resample(majority, replace = True, n_samples = len(minority), random_state = seed)\n",
        "\n",
        "# Concatenation de la classe minoritaire et majoritaire\n",
        "downsample = pd.concat([minority, majority_downsampled])\n",
        "\n",
        "# Affichage des classes de la DataFrame sous_échantillonées\n",
        "downsample['Churn'].value_counts()"
      ]
    },
    {
      "cell_type": "code",
      "execution_count": 119,
      "metadata": {
        "id": "-QFx7J8La7Vn"
      },
      "outputs": [],
      "source": [
        "# Données d'entrainement sur la base de la méthode de sous_échantillonnage\n",
        "x_train_down = downsample.drop('Churn', axis = 1)\n",
        "y_train_down = downsample['Churn']"
      ]
    },
    {
      "cell_type": "code",
      "execution_count": 120,
      "metadata": {
        "id": "BUUEvUGJfU4w"
      },
      "outputs": [],
      "source": [
        "# Rédimensionnement de y_train et x_train\n",
        "y_train = x_train['Churn']\n",
        "x_train = x_train.drop('Churn', axis = 1)"
      ]
    },
    {
      "cell_type": "markdown",
      "metadata": {
        "id": "MFEB2tDFiG8v"
      },
      "source": [
        "On à maintenant trois types de données sur lesquel entrainer notre algorithme de machine learning. \n",
        "\n",
        "* Les données obtenue à partir de la méthode de sur_échantillonnage (x_train_up, y_train_up), \n",
        "* les données obtenue par la méthode de sous_échantillonnage (x_train_down, y_train_down) et \n",
        "* les données originelle (x_train et y_train)\n",
        "\n",
        "Nous allons commencer par entrainer le modèle sur les données sur_échantillonnées"
      ]
    },
    {
      "cell_type": "code",
      "execution_count": 121,
      "metadata": {
        "id": "lDvXwpV3ha3H"
      },
      "outputs": [],
      "source": [
        "# Définition des données d'entrainements\n",
        "train_features = x_train_up\n",
        "train_labels = y_train_up"
      ]
    },
    {
      "cell_type": "markdown",
      "metadata": {
        "id": "CblXJvxjjp0N"
      },
      "source": [
        "Passons maintenant à la normalisation des données"
      ]
    },
    {
      "cell_type": "code",
      "execution_count": 122,
      "metadata": {
        "id": "RZkpVQ8hjxvb"
      },
      "outputs": [],
      "source": [
        "# Normalisation des variables independantes des différente ensemble de données\n",
        "scaler = MinMaxScaler()\n",
        "\n",
        "# Normalisation des données échantillonnées\n",
        "mode_scaler = scaler.fit(train_features)\n",
        "train_features = mode_scaler.transform(train_features)\n",
        "\n",
        "# Normalisation des données de validation\n",
        "x_val = mode_scaler.transform(x_val)\n",
        "\n",
        "# Normalisation des données d'entrainement\n",
        "x_test = mode_scaler.transform(x_test)\n",
        "\n",
        "\n",
        "# Retransformation en DataFrame\n",
        "train_features = pd.DataFrame(train_features, columns = X.columns)\n",
        "x_val = pd.DataFrame(x_val, columns = X.columns)\n",
        "x_test = pd.DataFrame(x_test, columns = X.columns)"
      ]
    },
    {
      "cell_type": "code",
      "execution_count": 123,
      "metadata": {
        "colab": {
          "base_uri": "https://localhost:8080/",
          "height": 411
        },
        "id": "sgYP44cBjnsz",
        "outputId": "90fe18f4-3317-4581-be70-84d6057dab8f"
      },
      "outputs": [
        {
          "data": {
            "text/html": [
              "<div>\n",
              "<style scoped>\n",
              "    .dataframe tbody tr th:only-of-type {\n",
              "        vertical-align: middle;\n",
              "    }\n",
              "\n",
              "    .dataframe tbody tr th {\n",
              "        vertical-align: top;\n",
              "    }\n",
              "\n",
              "    .dataframe thead th {\n",
              "        text-align: right;\n",
              "    }\n",
              "</style>\n",
              "<table border=\"1\" class=\"dataframe\">\n",
              "  <thead>\n",
              "    <tr style=\"text-align: right;\">\n",
              "      <th></th>\n",
              "      <th>gender</th>\n",
              "      <th>SeniorCitizen</th>\n",
              "      <th>Partner</th>\n",
              "      <th>Dependents</th>\n",
              "      <th>PhoneService</th>\n",
              "      <th>PaperlessBilling</th>\n",
              "      <th>MultipleLines_No phone service</th>\n",
              "      <th>MultipleLines_Yes</th>\n",
              "      <th>InternetService_Fiber optic</th>\n",
              "      <th>InternetService_No</th>\n",
              "      <th>...</th>\n",
              "      <th>StreamingMovies_No internet service</th>\n",
              "      <th>StreamingMovies_Yes</th>\n",
              "      <th>Contract_One year</th>\n",
              "      <th>Contract_Two year</th>\n",
              "      <th>PaymentMethod_Credit card (automatic)</th>\n",
              "      <th>PaymentMethod_Electronic check</th>\n",
              "      <th>PaymentMethod_Mailed check</th>\n",
              "      <th>tenure</th>\n",
              "      <th>MonthlyCharges</th>\n",
              "      <th>TotalCharges</th>\n",
              "    </tr>\n",
              "  </thead>\n",
              "  <tbody>\n",
              "    <tr>\n",
              "      <th>count</th>\n",
              "      <td>6196.000000</td>\n",
              "      <td>6196.0</td>\n",
              "      <td>6196.000000</td>\n",
              "      <td>6196.000000</td>\n",
              "      <td>6196.000000</td>\n",
              "      <td>6196.000000</td>\n",
              "      <td>6196.000000</td>\n",
              "      <td>6196.000000</td>\n",
              "      <td>6196.000000</td>\n",
              "      <td>6196.000000</td>\n",
              "      <td>...</td>\n",
              "      <td>6196.000000</td>\n",
              "      <td>6196.000000</td>\n",
              "      <td>6196.000000</td>\n",
              "      <td>6196.000000</td>\n",
              "      <td>6196.000000</td>\n",
              "      <td>6196.000000</td>\n",
              "      <td>6196.000000</td>\n",
              "      <td>6196.000000</td>\n",
              "      <td>6196.000000</td>\n",
              "      <td>6196.000000</td>\n",
              "    </tr>\n",
              "    <tr>\n",
              "      <th>mean</th>\n",
              "      <td>0.504035</td>\n",
              "      <td>0.0</td>\n",
              "      <td>0.440768</td>\n",
              "      <td>0.254358</td>\n",
              "      <td>0.907844</td>\n",
              "      <td>0.652356</td>\n",
              "      <td>0.092156</td>\n",
              "      <td>0.433021</td>\n",
              "      <td>0.520497</td>\n",
              "      <td>0.166398</td>\n",
              "      <td>...</td>\n",
              "      <td>0.166398</td>\n",
              "      <td>0.396869</td>\n",
              "      <td>0.164300</td>\n",
              "      <td>0.175274</td>\n",
              "      <td>0.185604</td>\n",
              "      <td>0.413008</td>\n",
              "      <td>0.213525</td>\n",
              "      <td>0.376245</td>\n",
              "      <td>0.493943</td>\n",
              "      <td>0.378641</td>\n",
              "    </tr>\n",
              "    <tr>\n",
              "      <th>std</th>\n",
              "      <td>0.500024</td>\n",
              "      <td>0.0</td>\n",
              "      <td>0.496519</td>\n",
              "      <td>0.435535</td>\n",
              "      <td>0.289270</td>\n",
              "      <td>0.476261</td>\n",
              "      <td>0.289270</td>\n",
              "      <td>0.495534</td>\n",
              "      <td>0.499620</td>\n",
              "      <td>0.372467</td>\n",
              "      <td>...</td>\n",
              "      <td>0.372467</td>\n",
              "      <td>0.489288</td>\n",
              "      <td>0.370577</td>\n",
              "      <td>0.380232</td>\n",
              "      <td>0.388818</td>\n",
              "      <td>0.492414</td>\n",
              "      <td>0.409828</td>\n",
              "      <td>0.338781</td>\n",
              "      <td>0.289249</td>\n",
              "      <td>0.275496</td>\n",
              "    </tr>\n",
              "    <tr>\n",
              "      <th>min</th>\n",
              "      <td>0.000000</td>\n",
              "      <td>0.0</td>\n",
              "      <td>0.000000</td>\n",
              "      <td>0.000000</td>\n",
              "      <td>0.000000</td>\n",
              "      <td>0.000000</td>\n",
              "      <td>0.000000</td>\n",
              "      <td>0.000000</td>\n",
              "      <td>0.000000</td>\n",
              "      <td>0.000000</td>\n",
              "      <td>...</td>\n",
              "      <td>0.000000</td>\n",
              "      <td>0.000000</td>\n",
              "      <td>0.000000</td>\n",
              "      <td>0.000000</td>\n",
              "      <td>0.000000</td>\n",
              "      <td>0.000000</td>\n",
              "      <td>0.000000</td>\n",
              "      <td>0.000000</td>\n",
              "      <td>0.000000</td>\n",
              "      <td>0.000000</td>\n",
              "    </tr>\n",
              "    <tr>\n",
              "      <th>25%</th>\n",
              "      <td>0.000000</td>\n",
              "      <td>0.0</td>\n",
              "      <td>0.000000</td>\n",
              "      <td>0.000000</td>\n",
              "      <td>1.000000</td>\n",
              "      <td>0.000000</td>\n",
              "      <td>0.000000</td>\n",
              "      <td>0.000000</td>\n",
              "      <td>0.000000</td>\n",
              "      <td>0.000000</td>\n",
              "      <td>...</td>\n",
              "      <td>0.000000</td>\n",
              "      <td>0.000000</td>\n",
              "      <td>0.000000</td>\n",
              "      <td>0.000000</td>\n",
              "      <td>0.000000</td>\n",
              "      <td>0.000000</td>\n",
              "      <td>0.000000</td>\n",
              "      <td>0.056338</td>\n",
              "      <td>0.268463</td>\n",
              "      <td>0.136900</td>\n",
              "    </tr>\n",
              "    <tr>\n",
              "      <th>50%</th>\n",
              "      <td>1.000000</td>\n",
              "      <td>0.0</td>\n",
              "      <td>0.000000</td>\n",
              "      <td>0.000000</td>\n",
              "      <td>1.000000</td>\n",
              "      <td>1.000000</td>\n",
              "      <td>0.000000</td>\n",
              "      <td>0.000000</td>\n",
              "      <td>1.000000</td>\n",
              "      <td>0.000000</td>\n",
              "      <td>...</td>\n",
              "      <td>0.000000</td>\n",
              "      <td>0.000000</td>\n",
              "      <td>0.000000</td>\n",
              "      <td>0.000000</td>\n",
              "      <td>0.000000</td>\n",
              "      <td>0.000000</td>\n",
              "      <td>0.000000</td>\n",
              "      <td>0.281690</td>\n",
              "      <td>0.561876</td>\n",
              "      <td>0.329658</td>\n",
              "    </tr>\n",
              "    <tr>\n",
              "      <th>75%</th>\n",
              "      <td>1.000000</td>\n",
              "      <td>0.0</td>\n",
              "      <td>1.000000</td>\n",
              "      <td>1.000000</td>\n",
              "      <td>1.000000</td>\n",
              "      <td>1.000000</td>\n",
              "      <td>0.000000</td>\n",
              "      <td>1.000000</td>\n",
              "      <td>1.000000</td>\n",
              "      <td>0.000000</td>\n",
              "      <td>...</td>\n",
              "      <td>0.000000</td>\n",
              "      <td>1.000000</td>\n",
              "      <td>0.000000</td>\n",
              "      <td>0.000000</td>\n",
              "      <td>0.000000</td>\n",
              "      <td>1.000000</td>\n",
              "      <td>0.000000</td>\n",
              "      <td>0.676056</td>\n",
              "      <td>0.731786</td>\n",
              "      <td>0.602778</td>\n",
              "    </tr>\n",
              "    <tr>\n",
              "      <th>max</th>\n",
              "      <td>1.000000</td>\n",
              "      <td>0.0</td>\n",
              "      <td>1.000000</td>\n",
              "      <td>1.000000</td>\n",
              "      <td>1.000000</td>\n",
              "      <td>1.000000</td>\n",
              "      <td>1.000000</td>\n",
              "      <td>1.000000</td>\n",
              "      <td>1.000000</td>\n",
              "      <td>1.000000</td>\n",
              "      <td>...</td>\n",
              "      <td>1.000000</td>\n",
              "      <td>1.000000</td>\n",
              "      <td>1.000000</td>\n",
              "      <td>1.000000</td>\n",
              "      <td>1.000000</td>\n",
              "      <td>1.000000</td>\n",
              "      <td>1.000000</td>\n",
              "      <td>1.000000</td>\n",
              "      <td>1.000000</td>\n",
              "      <td>1.000000</td>\n",
              "    </tr>\n",
              "  </tbody>\n",
              "</table>\n",
              "<p>8 rows × 30 columns</p>\n",
              "</div>"
            ],
            "text/plain": [
              "            gender  SeniorCitizen      Partner   Dependents  PhoneService  \\\n",
              "count  6196.000000         6196.0  6196.000000  6196.000000   6196.000000   \n",
              "mean      0.504035            0.0     0.440768     0.254358      0.907844   \n",
              "std       0.500024            0.0     0.496519     0.435535      0.289270   \n",
              "min       0.000000            0.0     0.000000     0.000000      0.000000   \n",
              "25%       0.000000            0.0     0.000000     0.000000      1.000000   \n",
              "50%       1.000000            0.0     0.000000     0.000000      1.000000   \n",
              "75%       1.000000            0.0     1.000000     1.000000      1.000000   \n",
              "max       1.000000            0.0     1.000000     1.000000      1.000000   \n",
              "\n",
              "       PaperlessBilling  MultipleLines_No phone service  MultipleLines_Yes  \\\n",
              "count       6196.000000                     6196.000000        6196.000000   \n",
              "mean           0.652356                        0.092156           0.433021   \n",
              "std            0.476261                        0.289270           0.495534   \n",
              "min            0.000000                        0.000000           0.000000   \n",
              "25%            0.000000                        0.000000           0.000000   \n",
              "50%            1.000000                        0.000000           0.000000   \n",
              "75%            1.000000                        0.000000           1.000000   \n",
              "max            1.000000                        1.000000           1.000000   \n",
              "\n",
              "       InternetService_Fiber optic  InternetService_No  ...  \\\n",
              "count                  6196.000000         6196.000000  ...   \n",
              "mean                      0.520497            0.166398  ...   \n",
              "std                       0.499620            0.372467  ...   \n",
              "min                       0.000000            0.000000  ...   \n",
              "25%                       0.000000            0.000000  ...   \n",
              "50%                       1.000000            0.000000  ...   \n",
              "75%                       1.000000            0.000000  ...   \n",
              "max                       1.000000            1.000000  ...   \n",
              "\n",
              "       StreamingMovies_No internet service  StreamingMovies_Yes  \\\n",
              "count                          6196.000000          6196.000000   \n",
              "mean                              0.166398             0.396869   \n",
              "std                               0.372467             0.489288   \n",
              "min                               0.000000             0.000000   \n",
              "25%                               0.000000             0.000000   \n",
              "50%                               0.000000             0.000000   \n",
              "75%                               0.000000             1.000000   \n",
              "max                               1.000000             1.000000   \n",
              "\n",
              "       Contract_One year  Contract_Two year  \\\n",
              "count        6196.000000        6196.000000   \n",
              "mean            0.164300           0.175274   \n",
              "std             0.370577           0.380232   \n",
              "min             0.000000           0.000000   \n",
              "25%             0.000000           0.000000   \n",
              "50%             0.000000           0.000000   \n",
              "75%             0.000000           0.000000   \n",
              "max             1.000000           1.000000   \n",
              "\n",
              "       PaymentMethod_Credit card (automatic)  PaymentMethod_Electronic check  \\\n",
              "count                            6196.000000                     6196.000000   \n",
              "mean                                0.185604                        0.413008   \n",
              "std                                 0.388818                        0.492414   \n",
              "min                                 0.000000                        0.000000   \n",
              "25%                                 0.000000                        0.000000   \n",
              "50%                                 0.000000                        0.000000   \n",
              "75%                                 0.000000                        1.000000   \n",
              "max                                 1.000000                        1.000000   \n",
              "\n",
              "       PaymentMethod_Mailed check       tenure  MonthlyCharges  TotalCharges  \n",
              "count                 6196.000000  6196.000000     6196.000000   6196.000000  \n",
              "mean                     0.213525     0.376245        0.493943      0.378641  \n",
              "std                      0.409828     0.338781        0.289249      0.275496  \n",
              "min                      0.000000     0.000000        0.000000      0.000000  \n",
              "25%                      0.000000     0.056338        0.268463      0.136900  \n",
              "50%                      0.000000     0.281690        0.561876      0.329658  \n",
              "75%                      0.000000     0.676056        0.731786      0.602778  \n",
              "max                      1.000000     1.000000        1.000000      1.000000  \n",
              "\n",
              "[8 rows x 30 columns]"
            ]
          },
          "execution_count": 123,
          "metadata": {},
          "output_type": "execute_result"
        }
      ],
      "source": [
        "# Verifions si toute les valeurs sont entre 0 et 1\n",
        "train_features.describe()"
      ]
    },
    {
      "cell_type": "markdown",
      "metadata": {
        "id": "rQtTAVovrfe_"
      },
      "source": [
        " Passons maintenant a la modélisation"
      ]
    },
    {
      "cell_type": "markdown",
      "metadata": {
        "id": "gw3WnW89rn7T"
      },
      "source": [
        "## Modélisation"
      ]
    },
    {
      "cell_type": "markdown",
      "metadata": {
        "id": "gwjmhJN8s7-o"
      },
      "source": [
        "### Choix de la métrique d'évaluation de performance du modèle\n",
        "\n",
        "**Quelle metrique choisir pour évaluer la performance des modèles ?**\n",
        "\n",
        "Qu'est ce qu'une matrice de confusion ?\n",
        "\n",
        "<img src=\"https://interactivechaos.com/sites/default/files/inline-images/confusion_matrix_sklearn.png\" width=\"900\" height=\"500\">\n",
        "\n",
        "La matrice de confusion est une matrice carrée qui rapporte le nombre de vrais positifs (True Positives ou TP), vrais négatifs (True Négatives ou\n",
        "TN), faux positifs (False Positive ou FP) et faux négatifs (False Negatives ou FN).\n",
        "\n",
        "Dans notre cas, le positif c'est 1 : le client s'est désabonné et le négatif c'est 0 : le client ne s'est pas désabonné.\n",
        "* TP: le client s'est désabonné et le modèle prédit qu'il s'est désabonné ;\n",
        "* TN: le client ne s'est pas désabonné et le modèle prédit qu'il ne s'est pas désabonné.\n",
        "Les 2 cas ci-dessus (TP et TN) sont les bons cas. Mais FP et FN sont les mauvais cas :\n",
        "* FP : le client ne s'est pas désabonné et le modèle prédit qu'il s'est désabonné;\n",
        "* FN : le client s'est désabonné et le modèle prédit qu'il ne s'est pas désabonné.\n",
        "\n",
        "Les choix de métrique :https://scikit-learn.org/stable/auto_examples/model_selection/plot_precision_recall.html\n",
        "\n",
        "A partir de la matrice de confusion, nous pouvont calculer certaines métriques pour évaluer la performance du modèle.\n",
        "    \n",
        "* La précision de la classification (Accuracy en anglais) est le pourcentage d'instances correctement classifiées, c'est-à-dire la somme du nombre de vrais négatifs et de vrais positifs divisée par le nombre total des observations. Elles se calcule donc par la formule ci-dessous :\n",
        "\n",
        "**Accuracy** = $\\frac{TN + TP}{TN + FN + FP+ TP}$\n",
        "\n",
        "faut faire attention à la précision globale. Une forte précision globale ne signifie pas forcément que le modèle est performant. Le choix de la\n",
        "métrique pour quantifier la performance du modèle doit se faire en fonction du contexte de l'étude, c'est-à-dire de la problématique qu'on veut résoudre.\n",
        "\n",
        "Lorsqu'il y a un problème de déséquilibre de classe, la précision globale n'est pas une bonne métrique d'évaluation de la performance du\n",
        "modèle.\n",
        "\n",
        "precision et recall sont des métriques très utilisées surtout lorsque les classes de la variable cible sont très déséquilibrées.\n",
        "* precision : La précision est l'indicateur qui vous indique, sur tous les points positifs prédits, combien étaient de vrais positifs\n",
        "\n",
        "**Precision** = $\\frac{TP}{ TP + FP}$ \n",
        "\n",
        "\n",
        "recall : cette métrique montre la capacité du modèle à identifier tous les vrais positifs TP\n",
        "\n",
        "**Recall** = $\\frac{TP}{TP + FN}$ \n",
        "\n",
        "L'amélioration de la precision diminue le recall et vice-versa. Alors que faire ?\n",
        "\n",
        "Fort heureusement, il y a une métrique qui contient à la fois la sensibilité et la spécificité. C'est le F1 score.\n",
        "* F1 score : Moyenne harmonique de precision et de recall. Elle se calcule donc par la formule :\n",
        "\n",
        "\n",
        "**F1_score** = $2*\\frac{precision * recall}{precision + recall}$ \n",
        "\n",
        "Pour un modèle parfait, f1 score est égale à 1 et la plus mauvaise performance est un modèle avec un f1 score égale à 0.\n",
        "\n",
        "Nous choisissons le F1_score pour évaluer la performance de chaque modèle qui sera construit."
      ]
    },
    {
      "cell_type": "code",
      "execution_count": 124,
      "metadata": {
        "colab": {
          "base_uri": "https://localhost:8080/"
        },
        "id": "_3L9vBRy27Nu",
        "outputId": "7c6249b8-b37c-4ef4-95aa-5309f417afd5"
      },
      "outputs": [
        {
          "name": "stdout",
          "output_type": "stream",
          "text": [
            "              precision    recall  f1-score   support\n",
            "\n",
            "           0       0.83      0.87      0.85      1032\n",
            "           1       0.60      0.51      0.55       374\n",
            "\n",
            "    accuracy                           0.78      1406\n",
            "   macro avg       0.71      0.69      0.70      1406\n",
            "weighted avg       0.77      0.78      0.77      1406\n",
            "\n"
          ]
        }
      ],
      "source": [
        "# Slection des meilleurs variables predictrices\n",
        "rf = RandomForestClassifier()\n",
        "rf.fit(train_features, train_labels)\n",
        "\n",
        "print(classification_report(y_val, rf.predict(x_val)))"
      ]
    },
    {
      "cell_type": "code",
      "execution_count": 125,
      "metadata": {
        "colab": {
          "base_uri": "https://localhost:8080/",
          "height": 678
        },
        "id": "J_i8nBMWr6P2",
        "outputId": "0ea70e28-0d86-4aff-b3b6-453872d0c0c3"
      },
      "outputs": [
        {
          "data": {
            "image/png": "[encoded data removed]",
            "text/plain": [
              "<Figure size 2200x800 with 1 Axes>"
            ]
          },
          "metadata": {},
          "output_type": "display_data"
        }
      ],
      "source": [
        "# Importance des variables indépendantes\n",
        "vars_imp = pd.Series(rf.feature_importances_, index = train_features.columns).sort_values(ascending = False)\n",
        "\n",
        "# Affichage du graphique de l'importance des variables predictrices\n",
        "plt.figure(figsize=(22,8))\n",
        "sns.barplot(x = vars_imp.index, y = vars_imp)\n",
        "plt.xticks(rotation=90, fontsize = 12)\n",
        "plt.xlabel(\"Variables\", fontsize = 16)\n",
        "plt.ylabel(\"Score d'importance de la variables\", fontsize = 16)\n",
        "plt.title(\"Importance des variables predictrices\", size = 18)\n",
        "plt.show()"
      ]
    },
    {
      "cell_type": "code",
      "execution_count": 126,
      "metadata": {
        "colab": {
          "base_uri": "https://localhost:8080/"
        },
        "id": "NQ47ZptTM2b0",
        "outputId": "e2284d51-de0d-4432-efe7-ae9881fa7de2"
      },
      "outputs": [
        {
          "data": {
            "text/plain": [
              "TotalCharges                             0.178269\n",
              "tenure                                   0.167561\n",
              "MonthlyCharges                           0.153233\n",
              "Contract_Two year                        0.060127\n",
              "InternetService_Fiber optic              0.041571\n",
              "PaymentMethod_Electronic check           0.038654\n",
              "PaperlessBilling                         0.026993\n",
              "gender                                   0.026971\n",
              "Contract_One year                        0.026657\n",
              "TechSupport_Yes                          0.025780\n",
              "OnlineSecurity_Yes                       0.025631\n",
              "Partner                                  0.022540\n",
              "OnlineBackup_Yes                         0.021949\n",
              "Dependents                               0.021825\n",
              "MultipleLines_Yes                        0.017538\n",
              "DeviceProtection_Yes                     0.017150\n",
              "StreamingMovies_Yes                      0.016694\n",
              "StreamingTV_Yes                          0.015699\n",
              "PaymentMethod_Credit card (automatic)    0.014208\n",
              "TechSupport_No internet service          0.013414\n",
              "PaymentMethod_Mailed check               0.013114\n",
              "StreamingMovies_No internet service      0.009328\n",
              "DeviceProtection_No internet service     0.008974\n",
              "InternetService_No                       0.008433\n",
              "OnlineBackup_No internet service         0.008035\n",
              "OnlineSecurity_No internet service       0.005760\n",
              "MultipleLines_No phone service           0.004878\n",
              "StreamingTV_No internet service          0.004615\n",
              "PhoneService                             0.004397\n",
              "SeniorCitizen                            0.000000\n",
              "dtype: float64"
            ]
          },
          "execution_count": 126,
          "metadata": {},
          "output_type": "execute_result"
        }
      ],
      "source": [
        "# Affichage des valeur de vars_imp\n",
        "vars_imp"
      ]
    },
    {
      "cell_type": "code",
      "execution_count": 127,
      "metadata": {
        "id": "8alOU9hMreO0"
      },
      "outputs": [],
      "source": [
        "# Variables selectionnées pour les algorithmes\n",
        "seuil = 0.004\n",
        "vars_select = vars_imp[vars_imp > seuil].index.to_list()\n",
        "\n",
        "# Reduction des données d'entrainement aux variables selectionnées\n",
        "train_features = train_features[vars_select]\n",
        "x_val = x_val[vars_select]\n",
        "x_test = x_test[vars_select]"
      ]
    },
    {
      "cell_type": "code",
      "execution_count": 128,
      "metadata": {
        "colab": {
          "base_uri": "https://localhost:8080/"
        },
        "id": "w3QMkyL4OPes",
        "outputId": "5e4753b0-c411-466b-f5d7-65b60bf548a3"
      },
      "outputs": [
        {
          "name": "stdout",
          "output_type": "stream",
          "text": [
            "Nombres de variables selectionnées : 29\n"
          ]
        }
      ],
      "source": [
        "# Nombre de variables predictrices\n",
        "print('Nombres de variables selectionnées :', len(vars_select))"
      ]
    },
    {
      "cell_type": "markdown",
      "metadata": {
        "id": "1MZHDj1tPdfC"
      },
      "source": [
        "Notre objectif est de construire un modèle de classification qui prédit si un client va se désabonner ou non. Nous utiliserons différents\n",
        "algorithmes **(Logistic Regression, Random Forest, Gradient Boosting, Classificateur Perceptron Multicouche et Support Vector Machine)** afin de\n",
        "comparer leurs performances et de choisir le meilleur modèle."
      ]
    },
    {
      "cell_type": "markdown",
      "metadata": {
        "id": "RAXGyNcEQdqB"
      },
      "source": [
        "## Modèle de Regression logistique"
      ]
    },
    {
      "cell_type": "code",
      "execution_count": 129,
      "metadata": {
        "colab": {
          "base_uri": "https://localhost:8080/"
        },
        "id": "QxIFhDL7Qnlz",
        "outputId": "8c9f5a11-82a9-4910-d9a2-4ead8fe462c4"
      },
      "outputs": [
        {
          "name": "stdout",
          "output_type": "stream",
          "text": [
            "0.777\n",
            "LogisticRegression(C=100, max_iter=500, random_state=42)\n"
          ]
        }
      ],
      "source": [
        "# Dictionnaire des hyper_parametres\n",
        "param_grid = {'C' :[0.001, 0.01, 1, 10, 50, 100, 500]}\n",
        "\n",
        "# Objet GridSearchCV\n",
        "grid_logreg_class = GridSearchCV(estimator=LogisticRegression(random_state = seed, max_iter = 500),\n",
        "                                 param_grid = param_grid,\n",
        "                                 scoring = 'f1',\n",
        "                                 cv = 5)\n",
        "\n",
        "# Entrainement de l'algorithme\n",
        "logreg_model = grid_logreg_class.fit(train_features, train_labels)\n",
        "\n",
        "# Meilleurs score et meilleurs hyper_parametre\n",
        "print(round(logreg_model.best_score_, 3))\n",
        "\n",
        "print(logreg_model.best_estimator_)"
      ]
    },
    {
      "cell_type": "markdown",
      "metadata": {
        "id": "FYKkuUbJUw-3"
      },
      "source": [
        "Le modèle a un bon score d'entrainement. Evaluons sa performance sur les données de validation afin d'apprecier sa capacité à généraliser sur de nouvelles données"
      ]
    },
    {
      "cell_type": "code",
      "execution_count": 130,
      "metadata": {
        "id": "Z-9i6d-fVHuc"
      },
      "outputs": [],
      "source": [
        "# Fonction d'évaluation de la performance d'un modèle\n",
        "def model_evaluation(model, features, labels):\n",
        "  y_pred = model.predict(features)\n",
        "  print(classification_report(labels, y_pred))\n"
      ]
    },
    {
      "cell_type": "code",
      "execution_count": 131,
      "metadata": {
        "colab": {
          "base_uri": "https://localhost:8080/"
        },
        "id": "tbWpeoyNWXtP",
        "outputId": "feade428-f00e-4125-9e12-9d14a5768547"
      },
      "outputs": [
        {
          "name": "stdout",
          "output_type": "stream",
          "text": [
            "              precision    recall  f1-score   support\n",
            "\n",
            "           0       0.91      0.72      0.81      1032\n",
            "           1       0.51      0.79      0.62       374\n",
            "\n",
            "    accuracy                           0.74      1406\n",
            "   macro avg       0.71      0.76      0.71      1406\n",
            "weighted avg       0.80      0.74      0.76      1406\n",
            "\n"
          ]
        }
      ],
      "source": [
        "# Evaluation du modèle de Regression logistique\n",
        "model_evaluation(logreg_model.best_estimator_, x_val, y_val)"
      ]
    },
    {
      "cell_type": "markdown",
      "metadata": {
        "id": "ISYnwQVMXVmu"
      },
      "source": [
        "Appliquons l'algorithme Recursive Feature Eliminator **(RFE)** sur le modèle afin de voir s'il garde les mêmes performances lorsqu'on réduit le\n",
        "nombre de predicteurs. \n",
        "En effet, plus le modèle est complexe, plus il est difficile de l'interpréter."
      ]
    },
    {
      "cell_type": "code",
      "execution_count": 132,
      "metadata": {
        "id": "eALtkM-45DYC"
      },
      "outputs": [],
      "source": [
        "# Création d'une fonction de construction d'un modèle avec utilisation de  l'algorithme RFE\n",
        "def model_with_rfe(model):\n",
        "  rfe_model = RFE(estimator = model, verbose = 0)\n",
        "  rfe_model.fit(train_features, train_labels)\n",
        "  mask = rfe_model.support_\n",
        "  reduced_x = train_features.iloc[:, mask]\n",
        "  print(reduced_x.columns)\n",
        "  return rfe_model\n"
      ]
    },
    {
      "cell_type": "code",
      "execution_count": 133,
      "metadata": {
        "colab": {
          "base_uri": "https://localhost:8080/"
        },
        "id": "YAYvySaN6xUU",
        "outputId": "ecb96fbf-7d5a-4616-c8fb-cf17aa4e1c41"
      },
      "outputs": [
        {
          "name": "stdout",
          "output_type": "stream",
          "text": [
            "Index(['TotalCharges', 'tenure', 'MonthlyCharges', 'Contract_Two year',\n",
            "       'InternetService_Fiber optic', 'PaperlessBilling', 'Contract_One year',\n",
            "       'MultipleLines_Yes', 'StreamingMovies_Yes', 'StreamingTV_Yes',\n",
            "       'TechSupport_No internet service',\n",
            "       'StreamingMovies_No internet service', 'InternetService_No',\n",
            "       'StreamingTV_No internet service'],\n",
            "      dtype='object')\n"
          ]
        },
        {
          "data": {
            "text/html": [
              "<style>#sk-container-id-3 {color: black;background-color: white;}#sk-container-id-3 pre{padding: 0;}#sk-container-id-3 div.sk-toggleable {background-color: white;}#sk-container-id-3 label.sk-toggleable__label {cursor: pointer;display: block;width: 100%;margin-bottom: 0;padding: 0.3em;box-sizing: border-box;text-align: center;}#sk-container-id-3 label.sk-toggleable__label-arrow:before {content: \"▸\";float: left;margin-right: 0.25em;color: #696969;}#sk-container-id-3 label.sk-toggleable__label-arrow:hover:before {color: black;}#sk-container-id-3 div.sk-estimator:hover label.sk-toggleable__label-arrow:before {color: black;}#sk-container-id-3 div.sk-toggleable__content {max-height: 0;max-width: 0;overflow: hidden;text-align: left;background-color: #f0f8ff;}#sk-container-id-3 div.sk-toggleable__content pre {margin: 0.2em;color: black;border-radius: 0.25em;background-color: #f0f8ff;}#sk-container-id-3 input.sk-toggleable__control:checked~div.sk-toggleable__content {max-height: 200px;max-width: 100%;overflow: auto;}#sk-container-id-3 input.sk-toggleable__control:checked~label.sk-toggleable__label-arrow:before {content: \"▾\";}#sk-container-id-3 div.sk-estimator input.sk-toggleable__control:checked~label.sk-toggleable__label {background-color: #d4ebff;}#sk-container-id-3 div.sk-label input.sk-toggleable__control:checked~label.sk-toggleable__label {background-color: #d4ebff;}#sk-container-id-3 input.sk-hidden--visually {border: 0;clip: rect(1px 1px 1px 1px);clip: rect(1px, 1px, 1px, 1px);height: 1px;margin: -1px;overflow: hidden;padding: 0;position: absolute;width: 1px;}#sk-container-id-3 div.sk-estimator {font-family: monospace;background-color: #f0f8ff;border: 1px dotted black;border-radius: 0.25em;box-sizing: border-box;margin-bottom: 0.5em;}#sk-container-id-3 div.sk-estimator:hover {background-color: #d4ebff;}#sk-container-id-3 div.sk-parallel-item::after {content: \"\";width: 100%;border-bottom: 1px solid gray;flex-grow: 1;}#sk-container-id-3 div.sk-label:hover label.sk-toggleable__label {background-color: #d4ebff;}#sk-container-id-3 div.sk-serial::before {content: \"\";position: absolute;border-left: 1px solid gray;box-sizing: border-box;top: 0;bottom: 0;left: 50%;z-index: 0;}#sk-container-id-3 div.sk-serial {display: flex;flex-direction: column;align-items: center;background-color: white;padding-right: 0.2em;padding-left: 0.2em;position: relative;}#sk-container-id-3 div.sk-item {position: relative;z-index: 1;}#sk-container-id-3 div.sk-parallel {display: flex;align-items: stretch;justify-content: center;background-color: white;position: relative;}#sk-container-id-3 div.sk-item::before, #sk-container-id-3 div.sk-parallel-item::before {content: \"\";position: absolute;border-left: 1px solid gray;box-sizing: border-box;top: 0;bottom: 0;left: 50%;z-index: -1;}#sk-container-id-3 div.sk-parallel-item {display: flex;flex-direction: column;z-index: 1;position: relative;background-color: white;}#sk-container-id-3 div.sk-parallel-item:first-child::after {align-self: flex-end;width: 50%;}#sk-container-id-3 div.sk-parallel-item:last-child::after {align-self: flex-start;width: 50%;}#sk-container-id-3 div.sk-parallel-item:only-child::after {width: 0;}#sk-container-id-3 div.sk-dashed-wrapped {border: 1px dashed gray;margin: 0 0.4em 0.5em 0.4em;box-sizing: border-box;padding-bottom: 0.4em;background-color: white;}#sk-container-id-3 div.sk-label label {font-family: monospace;font-weight: bold;display: inline-block;line-height: 1.2em;}#sk-container-id-3 div.sk-label-container {text-align: center;}#sk-container-id-3 div.sk-container {/* jupyter's `normalize.less` sets `[hidden] { display: none; }` but bootstrap.min.css set `[hidden] { display: none !important; }` so we also need the `!important` here to be able to override the default hidden behavior on the sphinx rendered scikit-learn.org. See: https://github.com/scikit-learn/scikit-learn/issues/21755 */display: inline-block !important;position: relative;}#sk-container-id-3 div.sk-text-repr-fallback {display: none;}</style><div id=\"sk-container-id-3\" class=\"sk-top-container\"><div class=\"sk-text-repr-fallback\"><pre>RFE(estimator=LogisticRegression(C=100, max_iter=500, random_state=42))</pre><b>In a Jupyter environment, please rerun this cell to show the HTML representation or trust the notebook. <br />On GitHub, the HTML representation is unable to render, please try loading this page with nbviewer.org.</b></div><div class=\"sk-container\" hidden><div class=\"sk-item sk-dashed-wrapped\"><div class=\"sk-label-container\"><div class=\"sk-label sk-toggleable\"><input class=\"sk-toggleable__control sk-hidden--visually\" id=\"sk-estimator-id-7\" type=\"checkbox\" ><label for=\"sk-estimator-id-7\" class=\"sk-toggleable__label sk-toggleable__label-arrow\">RFE</label><div class=\"sk-toggleable__content\"><pre>RFE(estimator=LogisticRegression(C=100, max_iter=500, random_state=42))</pre></div></div></div><div class=\"sk-parallel\"><div class=\"sk-parallel-item\"><div class=\"sk-item\"><div class=\"sk-label-container\"><div class=\"sk-label sk-toggleable\"><input class=\"sk-toggleable__control sk-hidden--visually\" id=\"sk-estimator-id-8\" type=\"checkbox\" ><label for=\"sk-estimator-id-8\" class=\"sk-toggleable__label sk-toggleable__label-arrow\">estimator: LogisticRegression</label><div class=\"sk-toggleable__content\"><pre>LogisticRegression(C=100, max_iter=500, random_state=42)</pre></div></div></div><div class=\"sk-serial\"><div class=\"sk-item\"><div class=\"sk-estimator sk-toggleable\"><input class=\"sk-toggleable__control sk-hidden--visually\" id=\"sk-estimator-id-9\" type=\"checkbox\" ><label for=\"sk-estimator-id-9\" class=\"sk-toggleable__label sk-toggleable__label-arrow\">LogisticRegression</label><div class=\"sk-toggleable__content\"><pre>LogisticRegression(C=100, max_iter=500, random_state=42)</pre></div></div></div></div></div></div></div></div></div></div>"
            ],
            "text/plain": [
              "RFE(estimator=LogisticRegression(C=100, max_iter=500, random_state=42))"
            ]
          },
          "execution_count": 133,
          "metadata": {},
          "output_type": "execute_result"
        }
      ],
      "source": [
        "# Logistic Regression RFE\n",
        "rfe_logreg_model = model_with_rfe(logreg_model.best_estimator_)\n",
        "rfe_logreg_model"
      ]
    },
    {
      "cell_type": "code",
      "execution_count": 134,
      "metadata": {
        "colab": {
          "base_uri": "https://localhost:8080/"
        },
        "id": "Pe0_znqf9Q11",
        "outputId": "a69f0335-09f4-41f2-fde7-1c3fe5e63c08"
      },
      "outputs": [
        {
          "name": "stdout",
          "output_type": "stream",
          "text": [
            "              precision    recall  f1-score   support\n",
            "\n",
            "           0       0.91      0.72      0.81      1032\n",
            "           1       0.51      0.79      0.62       374\n",
            "\n",
            "    accuracy                           0.74      1406\n",
            "   macro avg       0.71      0.76      0.71      1406\n",
            "weighted avg       0.80      0.74      0.76      1406\n",
            "\n"
          ]
        }
      ],
      "source": [
        "# Evaluation des performances du modele de regression logistique avec RFE\n",
        "model_evaluation(rfe_logreg_model.estimator, x_val, y_val)"
      ]
    },
    {
      "cell_type": "markdown",
      "metadata": {
        "id": "XJFlFab5-RTi"
      },
      "source": [
        "Le RFE à reduit le nombre de prédicteurs de 28 à 14 et n'as pas amélioré la performance du modèle.\n",
        "\n",
        "Passons à l'algorithme de forêt aléatoire"
      ]
    },
    {
      "cell_type": "markdown",
      "metadata": {
        "id": "QBrTaunZ-qs-"
      },
      "source": [
        "## Model de Forêt aléatoire"
      ]
    },
    {
      "cell_type": "code",
      "execution_count": 135,
      "metadata": {
        "colab": {
          "base_uri": "https://localhost:8080/"
        },
        "id": "TMM2keyH-zGW",
        "outputId": "aa49cfaf-ccec-48dd-ff37-66d3ab9bada6"
      },
      "outputs": [
        {
          "name": "stdout",
          "output_type": "stream",
          "text": [
            "0.914\n",
            "RandomForestClassifier(max_depth=100, random_state=42)\n"
          ]
        }
      ],
      "source": [
        "# Dictionnaire des hyper_parametres\n",
        "param_grid_rf = {'n_estimators' :[10, 50, 100, 500, 1000], 'max_depth' :[3, 5, 100, 500]}\n",
        "\n",
        "# Objet GridSearchCV\n",
        "grid_rf_class = GridSearchCV(estimator=RandomForestClassifier(random_state = seed),\n",
        "                                 param_grid = param_grid_rf,\n",
        "                                 scoring = 'f1',\n",
        "                                 cv = 5)\n",
        "\n",
        "# Entrainement de l'algorithme\n",
        "rf_model = grid_rf_class.fit(train_features, train_labels)\n",
        "\n",
        "# Meilleurs score et meilleurs hyper_parametre\n",
        "print(round(rf_model.best_score_, 3))\n",
        "\n",
        "print(rf_model.best_estimator_)"
      ]
    },
    {
      "cell_type": "code",
      "execution_count": 136,
      "metadata": {
        "colab": {
          "base_uri": "https://localhost:8080/"
        },
        "id": "sw3SUIcJBQmt",
        "outputId": "61506884-6482-46c1-9bd9-d57ad6cc6106"
      },
      "outputs": [
        {
          "name": "stdout",
          "output_type": "stream",
          "text": [
            "              precision    recall  f1-score   support\n",
            "\n",
            "           0       0.84      0.87      0.85      1032\n",
            "           1       0.60      0.53      0.57       374\n",
            "\n",
            "    accuracy                           0.78      1406\n",
            "   macro avg       0.72      0.70      0.71      1406\n",
            "weighted avg       0.78      0.78      0.78      1406\n",
            "\n"
          ]
        }
      ],
      "source": [
        "# Evaluation du modèle de Forêt aléatoire\n",
        "model_evaluation(rf_model.best_estimator_, x_val, y_val)"
      ]
    },
    {
      "cell_type": "markdown",
      "metadata": {
        "id": "SO8582MNBg3H"
      },
      "source": [
        "Comparé aux valeurs du model de Regression logistique, le modèle de Forêt aléatoire semble moins éfficace pour prédire la classe **1**\n",
        "\n",
        "Appliquons une RFE"
      ]
    },
    {
      "cell_type": "code",
      "execution_count": 137,
      "metadata": {
        "colab": {
          "base_uri": "https://localhost:8080/"
        },
        "id": "sjmty_JwBgGU",
        "outputId": "80c18046-9f71-4ba4-c471-9fe88443c9be"
      },
      "outputs": [
        {
          "name": "stdout",
          "output_type": "stream",
          "text": [
            "Index(['TotalCharges', 'tenure', 'MonthlyCharges', 'Contract_Two year',\n",
            "       'InternetService_Fiber optic', 'PaymentMethod_Electronic check',\n",
            "       'PaperlessBilling', 'gender', 'Contract_One year', 'TechSupport_Yes',\n",
            "       'OnlineSecurity_Yes', 'Partner', 'OnlineBackup_Yes',\n",
            "       'DeviceProtection_No internet service'],\n",
            "      dtype='object')\n"
          ]
        },
        {
          "data": {
            "text/html": [
              "<style>#sk-container-id-4 {color: black;background-color: white;}#sk-container-id-4 pre{padding: 0;}#sk-container-id-4 div.sk-toggleable {background-color: white;}#sk-container-id-4 label.sk-toggleable__label {cursor: pointer;display: block;width: 100%;margin-bottom: 0;padding: 0.3em;box-sizing: border-box;text-align: center;}#sk-container-id-4 label.sk-toggleable__label-arrow:before {content: \"▸\";float: left;margin-right: 0.25em;color: #696969;}#sk-container-id-4 label.sk-toggleable__label-arrow:hover:before {color: black;}#sk-container-id-4 div.sk-estimator:hover label.sk-toggleable__label-arrow:before {color: black;}#sk-container-id-4 div.sk-toggleable__content {max-height: 0;max-width: 0;overflow: hidden;text-align: left;background-color: #f0f8ff;}#sk-container-id-4 div.sk-toggleable__content pre {margin: 0.2em;color: black;border-radius: 0.25em;background-color: #f0f8ff;}#sk-container-id-4 input.sk-toggleable__control:checked~div.sk-toggleable__content {max-height: 200px;max-width: 100%;overflow: auto;}#sk-container-id-4 input.sk-toggleable__control:checked~label.sk-toggleable__label-arrow:before {content: \"▾\";}#sk-container-id-4 div.sk-estimator input.sk-toggleable__control:checked~label.sk-toggleable__label {background-color: #d4ebff;}#sk-container-id-4 div.sk-label input.sk-toggleable__control:checked~label.sk-toggleable__label {background-color: #d4ebff;}#sk-container-id-4 input.sk-hidden--visually {border: 0;clip: rect(1px 1px 1px 1px);clip: rect(1px, 1px, 1px, 1px);height: 1px;margin: -1px;overflow: hidden;padding: 0;position: absolute;width: 1px;}#sk-container-id-4 div.sk-estimator {font-family: monospace;background-color: #f0f8ff;border: 1px dotted black;border-radius: 0.25em;box-sizing: border-box;margin-bottom: 0.5em;}#sk-container-id-4 div.sk-estimator:hover {background-color: #d4ebff;}#sk-container-id-4 div.sk-parallel-item::after {content: \"\";width: 100%;border-bottom: 1px solid gray;flex-grow: 1;}#sk-container-id-4 div.sk-label:hover label.sk-toggleable__label {background-color: #d4ebff;}#sk-container-id-4 div.sk-serial::before {content: \"\";position: absolute;border-left: 1px solid gray;box-sizing: border-box;top: 0;bottom: 0;left: 50%;z-index: 0;}#sk-container-id-4 div.sk-serial {display: flex;flex-direction: column;align-items: center;background-color: white;padding-right: 0.2em;padding-left: 0.2em;position: relative;}#sk-container-id-4 div.sk-item {position: relative;z-index: 1;}#sk-container-id-4 div.sk-parallel {display: flex;align-items: stretch;justify-content: center;background-color: white;position: relative;}#sk-container-id-4 div.sk-item::before, #sk-container-id-4 div.sk-parallel-item::before {content: \"\";position: absolute;border-left: 1px solid gray;box-sizing: border-box;top: 0;bottom: 0;left: 50%;z-index: -1;}#sk-container-id-4 div.sk-parallel-item {display: flex;flex-direction: column;z-index: 1;position: relative;background-color: white;}#sk-container-id-4 div.sk-parallel-item:first-child::after {align-self: flex-end;width: 50%;}#sk-container-id-4 div.sk-parallel-item:last-child::after {align-self: flex-start;width: 50%;}#sk-container-id-4 div.sk-parallel-item:only-child::after {width: 0;}#sk-container-id-4 div.sk-dashed-wrapped {border: 1px dashed gray;margin: 0 0.4em 0.5em 0.4em;box-sizing: border-box;padding-bottom: 0.4em;background-color: white;}#sk-container-id-4 div.sk-label label {font-family: monospace;font-weight: bold;display: inline-block;line-height: 1.2em;}#sk-container-id-4 div.sk-label-container {text-align: center;}#sk-container-id-4 div.sk-container {/* jupyter's `normalize.less` sets `[hidden] { display: none; }` but bootstrap.min.css set `[hidden] { display: none !important; }` so we also need the `!important` here to be able to override the default hidden behavior on the sphinx rendered scikit-learn.org. See: https://github.com/scikit-learn/scikit-learn/issues/21755 */display: inline-block !important;position: relative;}#sk-container-id-4 div.sk-text-repr-fallback {display: none;}</style><div id=\"sk-container-id-4\" class=\"sk-top-container\"><div class=\"sk-text-repr-fallback\"><pre>RFE(estimator=RandomForestClassifier(max_depth=100, random_state=42))</pre><b>In a Jupyter environment, please rerun this cell to show the HTML representation or trust the notebook. <br />On GitHub, the HTML representation is unable to render, please try loading this page with nbviewer.org.</b></div><div class=\"sk-container\" hidden><div class=\"sk-item sk-dashed-wrapped\"><div class=\"sk-label-container\"><div class=\"sk-label sk-toggleable\"><input class=\"sk-toggleable__control sk-hidden--visually\" id=\"sk-estimator-id-10\" type=\"checkbox\" ><label for=\"sk-estimator-id-10\" class=\"sk-toggleable__label sk-toggleable__label-arrow\">RFE</label><div class=\"sk-toggleable__content\"><pre>RFE(estimator=RandomForestClassifier(max_depth=100, random_state=42))</pre></div></div></div><div class=\"sk-parallel\"><div class=\"sk-parallel-item\"><div class=\"sk-item\"><div class=\"sk-label-container\"><div class=\"sk-label sk-toggleable\"><input class=\"sk-toggleable__control sk-hidden--visually\" id=\"sk-estimator-id-11\" type=\"checkbox\" ><label for=\"sk-estimator-id-11\" class=\"sk-toggleable__label sk-toggleable__label-arrow\">estimator: RandomForestClassifier</label><div class=\"sk-toggleable__content\"><pre>RandomForestClassifier(max_depth=100, random_state=42)</pre></div></div></div><div class=\"sk-serial\"><div class=\"sk-item\"><div class=\"sk-estimator sk-toggleable\"><input class=\"sk-toggleable__control sk-hidden--visually\" id=\"sk-estimator-id-12\" type=\"checkbox\" ><label for=\"sk-estimator-id-12\" class=\"sk-toggleable__label sk-toggleable__label-arrow\">RandomForestClassifier</label><div class=\"sk-toggleable__content\"><pre>RandomForestClassifier(max_depth=100, random_state=42)</pre></div></div></div></div></div></div></div></div></div></div>"
            ],
            "text/plain": [
              "RFE(estimator=RandomForestClassifier(max_depth=100, random_state=42))"
            ]
          },
          "execution_count": 137,
          "metadata": {},
          "output_type": "execute_result"
        }
      ],
      "source": [
        "# RandomForest avec RFE\n",
        "rfe_rf_model = model_with_rfe(rf_model.best_estimator_)\n",
        "rfe_rf_model"
      ]
    },
    {
      "cell_type": "code",
      "execution_count": 138,
      "metadata": {
        "colab": {
          "base_uri": "https://localhost:8080/"
        },
        "id": "mvxjPL-4C2Gf",
        "outputId": "02722c09-4438-475a-82ef-0139408cd47c"
      },
      "outputs": [
        {
          "name": "stdout",
          "output_type": "stream",
          "text": [
            "              precision    recall  f1-score   support\n",
            "\n",
            "           0       0.84      0.87      0.85      1032\n",
            "           1       0.60      0.53      0.57       374\n",
            "\n",
            "    accuracy                           0.78      1406\n",
            "   macro avg       0.72      0.70      0.71      1406\n",
            "weighted avg       0.78      0.78      0.78      1406\n",
            "\n"
          ]
        }
      ],
      "source": [
        "# Evaluation des performances du RandomForest avec RFE\n",
        "model_evaluation(rfe_rf_model.estimator, x_val, y_val)"
      ]
    },
    {
      "cell_type": "markdown",
      "metadata": {
        "id": "jjL4DJopDiHu"
      },
      "source": [
        "Au vu de ses résultats, nous rétiendrons le modèle de forêt aléatoire obtenu sans RFE.\n",
        "\n",
        "Passons à la construction d'un modèle de réseau de neuronne artificiel."
      ]
    },
    {
      "cell_type": "markdown",
      "metadata": {
        "id": "RgHLdCitEc0g"
      },
      "source": [
        "## Classificateur Perceptron multicouche"
      ]
    },
    {
      "cell_type": "code",
      "execution_count": 139,
      "metadata": {
        "colab": {
          "base_uri": "https://localhost:8080/"
        },
        "id": "tAf7EgRNEZrX",
        "outputId": "67f0679a-15aa-43de-b197-0992c128afcb"
      },
      "outputs": [
        {
          "name": "stdout",
          "output_type": "stream",
          "text": [
            "0.862\n",
            "MLPClassifier(hidden_layer_sizes=(200,), max_iter=1000, random_state=42)\n"
          ]
        }
      ],
      "source": [
        "# MLPClassifier\n",
        "mlp = MLPClassifier(random_state = seed, max_iter = 1000)\n",
        "\n",
        "# Definition des hyper_parametres\n",
        "parameters = {'hidden_layer_sizes' :[(50,) , (100,), (200,)],\n",
        "              'learning_rate' :['constant', 'invscaling', 'adaptive']},\n",
        "              \n",
        "\n",
        "# Recherche des hyperparametres\n",
        "mlp_cv = GridSearchCV(mlp, parameters, scoring='f1', cv=5, n_jobs=-1)\n",
        "\n",
        "# Entrainement du modèle\n",
        "mlp_cv.fit(train_features, train_labels)\n",
        "\n",
        "\n",
        "# Meilleurs score et meilleurs hyper_parametre\n",
        "print(round(mlp_cv.best_score_, 3))\n",
        "print(mlp_cv.best_estimator_)"
      ]
    },
    {
      "cell_type": "code",
      "execution_count": 140,
      "metadata": {
        "colab": {
          "base_uri": "https://localhost:8080/"
        },
        "id": "emoktOYZLd7l",
        "outputId": "aca21206-0592-4b8d-8441-a03dc45d13ce"
      },
      "outputs": [
        {
          "name": "stdout",
          "output_type": "stream",
          "text": [
            "              precision    recall  f1-score   support\n",
            "\n",
            "           0       0.85      0.77      0.81      1032\n",
            "           1       0.49      0.62      0.55       374\n",
            "\n",
            "    accuracy                           0.73      1406\n",
            "   macro avg       0.67      0.70      0.68      1406\n",
            "weighted avg       0.75      0.73      0.74      1406\n",
            "\n"
          ]
        }
      ],
      "source": [
        "# Evaluation du modele Perceptron\n",
        "model_evaluation(mlp_cv.best_estimator_, x_val, y_val)"
      ]
    },
    {
      "cell_type": "markdown",
      "metadata": {
        "id": "StbwdEDYL9xb"
      },
      "source": [
        "Passons maintenant à un modèle SVM (Support Vector Machine)."
      ]
    },
    {
      "cell_type": "markdown",
      "metadata": {
        "id": "LwYxd_vkMK3l"
      },
      "source": [
        "## Support Vector Machine (SVM)"
      ]
    },
    {
      "cell_type": "code",
      "execution_count": 141,
      "metadata": {
        "colab": {
          "base_uri": "https://localhost:8080/"
        },
        "id": "RfmMETXSMiIJ",
        "outputId": "51479fbc-8369-4c49-bb11-166d285ab872"
      },
      "outputs": [
        {
          "name": "stdout",
          "output_type": "stream",
          "text": [
            "0.855\n",
            "SVC(C=100, random_state=42)\n"
          ]
        }
      ],
      "source": [
        "# Support Vector Machine : Classificateur qui trouve l'hyperplan optimal qui maximise la frontière entre 2 classes\n",
        "svm_model = SVC(random_state = seed)\n",
        "\n",
        "# Dictionnaire des hyper_parametres\n",
        "svm_hyp = {'C' :[1, 10, 50, 100],\n",
        "             'kernel' :['linear', 'rbf']}\n",
        "\n",
        "# Objet GridSearchCV\n",
        "svm_cv = GridSearchCV(svm_model,\n",
        "                   svm_hyp,\n",
        "                   scoring = 'f1',\n",
        "                   cv = 5)\n",
        "                              \n",
        "\n",
        "# Entrainement de l'algorithme\n",
        "svm_model = svm_cv.fit(train_features, train_labels)\n",
        "\n",
        "# Meilleurs score et meilleurs hyper_parametre\n",
        "print(round(svm_model.best_score_, 3))\n",
        "\n",
        "print(svm_model.best_estimator_)"
      ]
    },
    {
      "cell_type": "code",
      "execution_count": 142,
      "metadata": {
        "colab": {
          "base_uri": "https://localhost:8080/"
        },
        "id": "_WTf9d5KWATk",
        "outputId": "5a686b7e-07b7-4aa7-8b74-88619d6e06aa"
      },
      "outputs": [
        {
          "name": "stdout",
          "output_type": "stream",
          "text": [
            "              precision    recall  f1-score   support\n",
            "\n",
            "           0       0.84      0.76      0.80      1032\n",
            "           1       0.48      0.61      0.54       374\n",
            "\n",
            "    accuracy                           0.72      1406\n",
            "   macro avg       0.66      0.68      0.67      1406\n",
            "weighted avg       0.75      0.72      0.73      1406\n",
            "\n"
          ]
        }
      ],
      "source": [
        "# Evaluation des performances du RandomForest avec RFE\n",
        "model_evaluation(svm_model.best_estimator_, x_val, y_val)"
      ]
    },
    {
      "cell_type": "markdown",
      "metadata": {
        "id": "0xHpaDWDXaMS"
      },
      "source": [
        "## Choix du meilleurs modèle"
      ]
    },
    {
      "cell_type": "markdown",
      "metadata": {
        "id": "MgczDNrDYGJi"
      },
      "source": [
        "Nous avons utilisé les données d'évaluation pour sélectionner le meilleur modèle. Ensuite nous évaluons le meilleur modèle sélectionné sur les\n",
        "données de test afin d'apprécier sa performance sur de nouvelles données. Idéalement les performances de ce modèle sur les données\n",
        "dévaluation et sur les données de test doivent étre relativement proches."
      ]
    },
    {
      "cell_type": "code",
      "execution_count": 153,
      "metadata": {
        "colab": {
          "base_uri": "https://localhost:8080/"
        },
        "id": "T5zHdZzRYRsd",
        "outputId": "f8186e6b-591a-4db5-b36c-ad735b19a0e8"
      },
      "outputs": [
        {
          "name": "stdout",
          "output_type": "stream",
          "text": [
            "              precision    recall  f1-score   support\n",
            "\n",
            "           0       0.91      0.72      0.80      1033\n",
            "           1       0.51      0.80      0.62       374\n",
            "\n",
            "    accuracy                           0.74      1407\n",
            "   macro avg       0.71      0.76      0.71      1407\n",
            "weighted avg       0.80      0.74      0.75      1407\n",
            "\n"
          ]
        }
      ],
      "source": [
        "# Performance du meilleur modèle sur les données de test\n",
        "model_evaluation(logreg_model.best_estimator_, x_test, y_test)"
      ]
    },
    {
      "cell_type": "code",
      "execution_count": 149,
      "metadata": {},
      "outputs": [
        {
          "data": {
            "text/plain": [
              "['./models/logreg_model.joblib']"
            ]
          },
          "execution_count": 149,
          "metadata": {},
          "output_type": "execute_result"
        }
      ],
      "source": [
        "# Enregistrement du modele dans un fichier pickle\n",
        "joblib.dump(logreg_model,'./models/logreg_model.joblib')"
      ]
    },
    {
      "cell_type": "code",
      "execution_count": 154,
      "metadata": {},
      "outputs": [
        {
          "data": {
            "text/html": [
              "<style>#sk-container-id-7 {color: black;background-color: white;}#sk-container-id-7 pre{padding: 0;}#sk-container-id-7 div.sk-toggleable {background-color: white;}#sk-container-id-7 label.sk-toggleable__label {cursor: pointer;display: block;width: 100%;margin-bottom: 0;padding: 0.3em;box-sizing: border-box;text-align: center;}#sk-container-id-7 label.sk-toggleable__label-arrow:before {content: \"▸\";float: left;margin-right: 0.25em;color: #696969;}#sk-container-id-7 label.sk-toggleable__label-arrow:hover:before {color: black;}#sk-container-id-7 div.sk-estimator:hover label.sk-toggleable__label-arrow:before {color: black;}#sk-container-id-7 div.sk-toggleable__content {max-height: 0;max-width: 0;overflow: hidden;text-align: left;background-color: #f0f8ff;}#sk-container-id-7 div.sk-toggleable__content pre {margin: 0.2em;color: black;border-radius: 0.25em;background-color: #f0f8ff;}#sk-container-id-7 input.sk-toggleable__control:checked~div.sk-toggleable__content {max-height: 200px;max-width: 100%;overflow: auto;}#sk-container-id-7 input.sk-toggleable__control:checked~label.sk-toggleable__label-arrow:before {content: \"▾\";}#sk-container-id-7 div.sk-estimator input.sk-toggleable__control:checked~label.sk-toggleable__label {background-color: #d4ebff;}#sk-container-id-7 div.sk-label input.sk-toggleable__control:checked~label.sk-toggleable__label {background-color: #d4ebff;}#sk-container-id-7 input.sk-hidden--visually {border: 0;clip: rect(1px 1px 1px 1px);clip: rect(1px, 1px, 1px, 1px);height: 1px;margin: -1px;overflow: hidden;padding: 0;position: absolute;width: 1px;}#sk-container-id-7 div.sk-estimator {font-family: monospace;background-color: #f0f8ff;border: 1px dotted black;border-radius: 0.25em;box-sizing: border-box;margin-bottom: 0.5em;}#sk-container-id-7 div.sk-estimator:hover {background-color: #d4ebff;}#sk-container-id-7 div.sk-parallel-item::after {content: \"\";width: 100%;border-bottom: 1px solid gray;flex-grow: 1;}#sk-container-id-7 div.sk-label:hover label.sk-toggleable__label {background-color: #d4ebff;}#sk-container-id-7 div.sk-serial::before {content: \"\";position: absolute;border-left: 1px solid gray;box-sizing: border-box;top: 0;bottom: 0;left: 50%;z-index: 0;}#sk-container-id-7 div.sk-serial {display: flex;flex-direction: column;align-items: center;background-color: white;padding-right: 0.2em;padding-left: 0.2em;position: relative;}#sk-container-id-7 div.sk-item {position: relative;z-index: 1;}#sk-container-id-7 div.sk-parallel {display: flex;align-items: stretch;justify-content: center;background-color: white;position: relative;}#sk-container-id-7 div.sk-item::before, #sk-container-id-7 div.sk-parallel-item::before {content: \"\";position: absolute;border-left: 1px solid gray;box-sizing: border-box;top: 0;bottom: 0;left: 50%;z-index: -1;}#sk-container-id-7 div.sk-parallel-item {display: flex;flex-direction: column;z-index: 1;position: relative;background-color: white;}#sk-container-id-7 div.sk-parallel-item:first-child::after {align-self: flex-end;width: 50%;}#sk-container-id-7 div.sk-parallel-item:last-child::after {align-self: flex-start;width: 50%;}#sk-container-id-7 div.sk-parallel-item:only-child::after {width: 0;}#sk-container-id-7 div.sk-dashed-wrapped {border: 1px dashed gray;margin: 0 0.4em 0.5em 0.4em;box-sizing: border-box;padding-bottom: 0.4em;background-color: white;}#sk-container-id-7 div.sk-label label {font-family: monospace;font-weight: bold;display: inline-block;line-height: 1.2em;}#sk-container-id-7 div.sk-label-container {text-align: center;}#sk-container-id-7 div.sk-container {/* jupyter's `normalize.less` sets `[hidden] { display: none; }` but bootstrap.min.css set `[hidden] { display: none !important; }` so we also need the `!important` here to be able to override the default hidden behavior on the sphinx rendered scikit-learn.org. See: https://github.com/scikit-learn/scikit-learn/issues/21755 */display: inline-block !important;position: relative;}#sk-container-id-7 div.sk-text-repr-fallback {display: none;}</style><div id=\"sk-container-id-7\" class=\"sk-top-container\"><div class=\"sk-text-repr-fallback\"><pre>GridSearchCV(cv=5, estimator=LogisticRegression(max_iter=500, random_state=42),\n",
              "             param_grid={&#x27;C&#x27;: [0.001, 0.01, 1, 10, 50, 100, 500]},\n",
              "             scoring=&#x27;f1&#x27;)</pre><b>In a Jupyter environment, please rerun this cell to show the HTML representation or trust the notebook. <br />On GitHub, the HTML representation is unable to render, please try loading this page with nbviewer.org.</b></div><div class=\"sk-container\" hidden><div class=\"sk-item sk-dashed-wrapped\"><div class=\"sk-label-container\"><div class=\"sk-label sk-toggleable\"><input class=\"sk-toggleable__control sk-hidden--visually\" id=\"sk-estimator-id-17\" type=\"checkbox\" ><label for=\"sk-estimator-id-17\" class=\"sk-toggleable__label sk-toggleable__label-arrow\">GridSearchCV</label><div class=\"sk-toggleable__content\"><pre>GridSearchCV(cv=5, estimator=LogisticRegression(max_iter=500, random_state=42),\n",
              "             param_grid={&#x27;C&#x27;: [0.001, 0.01, 1, 10, 50, 100, 500]},\n",
              "             scoring=&#x27;f1&#x27;)</pre></div></div></div><div class=\"sk-parallel\"><div class=\"sk-parallel-item\"><div class=\"sk-item\"><div class=\"sk-label-container\"><div class=\"sk-label sk-toggleable\"><input class=\"sk-toggleable__control sk-hidden--visually\" id=\"sk-estimator-id-18\" type=\"checkbox\" ><label for=\"sk-estimator-id-18\" class=\"sk-toggleable__label sk-toggleable__label-arrow\">estimator: LogisticRegression</label><div class=\"sk-toggleable__content\"><pre>LogisticRegression(max_iter=500, random_state=42)</pre></div></div></div><div class=\"sk-serial\"><div class=\"sk-item\"><div class=\"sk-estimator sk-toggleable\"><input class=\"sk-toggleable__control sk-hidden--visually\" id=\"sk-estimator-id-19\" type=\"checkbox\" ><label for=\"sk-estimator-id-19\" class=\"sk-toggleable__label sk-toggleable__label-arrow\">LogisticRegression</label><div class=\"sk-toggleable__content\"><pre>LogisticRegression(max_iter=500, random_state=42)</pre></div></div></div></div></div></div></div></div></div></div>"
            ],
            "text/plain": [
              "GridSearchCV(cv=5, estimator=LogisticRegression(max_iter=500, random_state=42),\n",
              "             param_grid={'C': [0.001, 0.01, 1, 10, 50, 100, 500]},\n",
              "             scoring='f1')"
            ]
          },
          "execution_count": 154,
          "metadata": {},
          "output_type": "execute_result"
        }
      ],
      "source": [
        "# Chargement du modele\n",
        "loaded_model = joblib.load('./models/logreg_model.joblib')\n",
        "loaded_model"
      ]
    },
    {
      "cell_type": "markdown",
      "metadata": {
        "id": "ws5wNEekbZcz"
      },
      "source": [
        "## Conclusion"
      ]
    },
    {
      "cell_type": "markdown",
      "metadata": {
        "id": "73aC5ucxbcr9"
      },
      "source": [
        "<img src=\"https://cdn.pixabay.com/photo/2015/11/03/08/58/meeting-1019875_960_720.jpg\" width=\"750\" height=\"350\">\n",
        "\n",
        "\n",
        "\n",
        "\n",
        "\n",
        "Dans ce projet Customer Churn, nous avons appris à :\n",
        "\n",
        "* Comprendre une problematique business sur le Customer Churn\n",
        "* Proceder à une analyse exploratoire des données\n",
        "* Proceder au netoyage des données\n",
        "* Gerer les données manquantes et aberantes\n",
        "* Tirer des informations utile pour le pretraitement\n",
        "* Diviser les données en test, validation et entrainement\n",
        "* Regler un probleme de desequilibre de classe\n",
        "* Utiliser different modele de machine learning\n",
        "* Choisir la metric approprié en fonction de la problematique business\n",
        "* Choisir le meilleur modele (le plus performant) parmis les model construit\n",
        "* Choisir les predicteurs les plus performant a la formation d'un modele\n",
        "* Deployer le modele dans une application web "
      ]
    }
  ],
  "metadata": {
    "colab": {
      "provenance": []
    },
    "kernelspec": {
      "display_name": "Python 3",
      "name": "python3"
    },
    "language_info": {
      "codemirror_mode": {
        "name": "ipython",
        "version": 3
      },
      "file_extension": ".py",
      "mimetype": "text/x-python",
      "name": "python",
      "nbconvert_exporter": "python",
      "pygments_lexer": "ipython3",
      "version": "3.10.0"
    },
    "widgets": {
      "application/vnd.jupyter.widget-state+json": {
        "0b4a7cfaacf54b279cf27a100dcb67da": {
          "model_module": "@jupyter-widgets/controls",
          "model_module_version": "1.5.0",
          "model_name": "VBoxModel",
          "state": {
            "_dom_classes": [
              "widget-interact"
            ],
            "_model_module": "@jupyter-widgets/controls",
            "_model_module_version": "1.5.0",
            "_model_name": "VBoxModel",
            "_view_count": null,
            "_view_module": "@jupyter-widgets/controls",
            "_view_module_version": "1.5.0",
            "_view_name": "VBoxView",
            "box_style": "",
            "children": [
              "IPY_MODEL_10e8413b1c314c9cbcf86bd45de910a9",
              "IPY_MODEL_cc8ad5803f674bc6852488ad541e0d85"
            ],
            "layout": "IPY_MODEL_6d0fca894f8049feb765a3a3207be0c6"
          }
        },
        "10e8413b1c314c9cbcf86bd45de910a9": {
          "model_module": "@jupyter-widgets/controls",
          "model_module_version": "1.5.0",
          "model_name": "DropdownModel",
          "state": {
            "_dom_classes": [],
            "_model_module": "@jupyter-widgets/controls",
            "_model_module_version": "1.5.0",
            "_model_name": "DropdownModel",
            "_options_labels": [
              "tenure",
              "MonthlyCharges",
              "TotalCharges"
            ],
            "_view_count": null,
            "_view_module": "@jupyter-widgets/controls",
            "_view_module_version": "1.5.0",
            "_view_name": "DropdownView",
            "description": "Variable",
            "description_tooltip": null,
            "disabled": false,
            "index": 0,
            "layout": "IPY_MODEL_9c57206bf8764abb925a161e628a4cba",
            "style": "IPY_MODEL_b45c2a7e7c62475c9e6a66e0d1beccb3"
          }
        },
        "191ebffb10584dc183edf069713a9311": {
          "model_module": "@jupyter-widgets/controls",
          "model_module_version": "1.5.0",
          "model_name": "VBoxModel",
          "state": {
            "_dom_classes": [
              "widget-interact"
            ],
            "_model_module": "@jupyter-widgets/controls",
            "_model_module_version": "1.5.0",
            "_model_name": "VBoxModel",
            "_view_count": null,
            "_view_module": "@jupyter-widgets/controls",
            "_view_module_version": "1.5.0",
            "_view_name": "VBoxView",
            "box_style": "",
            "children": [
              "IPY_MODEL_673bbba5cced487eb3d2c4abd2a40611",
              "IPY_MODEL_71e8f6aa6a4a4d7580371b2b7f67e463"
            ],
            "layout": "IPY_MODEL_5327ec5864a344e0bdf7775aefee5902"
          }
        },
        "23d15402b173490a9fb194a319ae3bf7": {
          "model_module": "@jupyter-widgets/controls",
          "model_module_version": "1.5.0",
          "model_name": "DescriptionStyleModel",
          "state": {
            "_model_module": "@jupyter-widgets/controls",
            "_model_module_version": "1.5.0",
            "_model_name": "DescriptionStyleModel",
            "_view_count": null,
            "_view_module": "@jupyter-widgets/base",
            "_view_module_version": "1.2.0",
            "_view_name": "StyleView",
            "description_width": ""
          }
        },
        "28fa53b4e94b4a84992d6dd0a026274d": {
          "model_module": "@jupyter-widgets/base",
          "model_module_version": "1.2.0",
          "model_name": "LayoutModel",
          "state": {
            "_model_module": "@jupyter-widgets/base",
            "_model_module_version": "1.2.0",
            "_model_name": "LayoutModel",
            "_view_count": null,
            "_view_module": "@jupyter-widgets/base",
            "_view_module_version": "1.2.0",
            "_view_name": "LayoutView",
            "align_content": null,
            "align_items": null,
            "align_self": null,
            "border": null,
            "bottom": null,
            "display": null,
            "flex": null,
            "flex_flow": null,
            "grid_area": null,
            "grid_auto_columns": null,
            "grid_auto_flow": null,
            "grid_auto_rows": null,
            "grid_column": null,
            "grid_gap": null,
            "grid_row": null,
            "grid_template_areas": null,
            "grid_template_columns": null,
            "grid_template_rows": null,
            "height": null,
            "justify_content": null,
            "justify_items": null,
            "left": null,
            "margin": null,
            "max_height": null,
            "max_width": null,
            "min_height": null,
            "min_width": null,
            "object_fit": null,
            "object_position": null,
            "order": null,
            "overflow": null,
            "overflow_x": null,
            "overflow_y": null,
            "padding": null,
            "right": null,
            "top": null,
            "visibility": null,
            "width": null
          }
        },
        "30f93c6221ac4bff97dd116543a0b286": {
          "model_module": "@jupyter-widgets/base",
          "model_module_version": "1.2.0",
          "model_name": "LayoutModel",
          "state": {
            "_model_module": "@jupyter-widgets/base",
            "_model_module_version": "1.2.0",
            "_model_name": "LayoutModel",
            "_view_count": null,
            "_view_module": "@jupyter-widgets/base",
            "_view_module_version": "1.2.0",
            "_view_name": "LayoutView",
            "align_content": null,
            "align_items": null,
            "align_self": null,
            "border": null,
            "bottom": null,
            "display": null,
            "flex": null,
            "flex_flow": null,
            "grid_area": null,
            "grid_auto_columns": null,
            "grid_auto_flow": null,
            "grid_auto_rows": null,
            "grid_column": null,
            "grid_gap": null,
            "grid_row": null,
            "grid_template_areas": null,
            "grid_template_columns": null,
            "grid_template_rows": null,
            "height": null,
            "justify_content": null,
            "justify_items": null,
            "left": null,
            "margin": null,
            "max_height": null,
            "max_width": null,
            "min_height": null,
            "min_width": null,
            "object_fit": null,
            "object_position": null,
            "order": null,
            "overflow": null,
            "overflow_x": null,
            "overflow_y": null,
            "padding": null,
            "right": null,
            "top": null,
            "visibility": null,
            "width": null
          }
        },
        "449c60529c7447a7b5dc40bca9105b78": {
          "model_module": "@jupyter-widgets/base",
          "model_module_version": "1.2.0",
          "model_name": "LayoutModel",
          "state": {
            "_model_module": "@jupyter-widgets/base",
            "_model_module_version": "1.2.0",
            "_model_name": "LayoutModel",
            "_view_count": null,
            "_view_module": "@jupyter-widgets/base",
            "_view_module_version": "1.2.0",
            "_view_name": "LayoutView",
            "align_content": null,
            "align_items": null,
            "align_self": null,
            "border": null,
            "bottom": null,
            "display": null,
            "flex": null,
            "flex_flow": null,
            "grid_area": null,
            "grid_auto_columns": null,
            "grid_auto_flow": null,
            "grid_auto_rows": null,
            "grid_column": null,
            "grid_gap": null,
            "grid_row": null,
            "grid_template_areas": null,
            "grid_template_columns": null,
            "grid_template_rows": null,
            "height": null,
            "justify_content": null,
            "justify_items": null,
            "left": null,
            "margin": null,
            "max_height": null,
            "max_width": null,
            "min_height": null,
            "min_width": null,
            "object_fit": null,
            "object_position": null,
            "order": null,
            "overflow": null,
            "overflow_x": null,
            "overflow_y": null,
            "padding": null,
            "right": null,
            "top": null,
            "visibility": null,
            "width": null
          }
        },
        "5327ec5864a344e0bdf7775aefee5902": {
          "model_module": "@jupyter-widgets/base",
          "model_module_version": "1.2.0",
          "model_name": "LayoutModel",
          "state": {
            "_model_module": "@jupyter-widgets/base",
            "_model_module_version": "1.2.0",
            "_model_name": "LayoutModel",
            "_view_count": null,
            "_view_module": "@jupyter-widgets/base",
            "_view_module_version": "1.2.0",
            "_view_name": "LayoutView",
            "align_content": null,
            "align_items": null,
            "align_self": null,
            "border": null,
            "bottom": null,
            "display": null,
            "flex": null,
            "flex_flow": null,
            "grid_area": null,
            "grid_auto_columns": null,
            "grid_auto_flow": null,
            "grid_auto_rows": null,
            "grid_column": null,
            "grid_gap": null,
            "grid_row": null,
            "grid_template_areas": null,
            "grid_template_columns": null,
            "grid_template_rows": null,
            "height": null,
            "justify_content": null,
            "justify_items": null,
            "left": null,
            "margin": null,
            "max_height": null,
            "max_width": null,
            "min_height": null,
            "min_width": null,
            "object_fit": null,
            "object_position": null,
            "order": null,
            "overflow": null,
            "overflow_x": null,
            "overflow_y": null,
            "padding": null,
            "right": null,
            "top": null,
            "visibility": null,
            "width": null
          }
        },
        "673bbba5cced487eb3d2c4abd2a40611": {
          "model_module": "@jupyter-widgets/controls",
          "model_module_version": "1.5.0",
          "model_name": "DropdownModel",
          "state": {
            "_dom_classes": [],
            "_model_module": "@jupyter-widgets/controls",
            "_model_module_version": "1.5.0",
            "_model_name": "DropdownModel",
            "_options_labels": [
              "tenure",
              "MonthlyCharges",
              "TotalCharges"
            ],
            "_view_count": null,
            "_view_module": "@jupyter-widgets/controls",
            "_view_module_version": "1.5.0",
            "_view_name": "DropdownView",
            "description": "Variables",
            "description_tooltip": null,
            "disabled": false,
            "index": 0,
            "layout": "IPY_MODEL_9d817f80b06f4ded8879dbb1e1ca7809",
            "style": "IPY_MODEL_23d15402b173490a9fb194a319ae3bf7"
          }
        },
        "6d0fca894f8049feb765a3a3207be0c6": {
          "model_module": "@jupyter-widgets/base",
          "model_module_version": "1.2.0",
          "model_name": "LayoutModel",
          "state": {
            "_model_module": "@jupyter-widgets/base",
            "_model_module_version": "1.2.0",
            "_model_name": "LayoutModel",
            "_view_count": null,
            "_view_module": "@jupyter-widgets/base",
            "_view_module_version": "1.2.0",
            "_view_name": "LayoutView",
            "align_content": null,
            "align_items": null,
            "align_self": null,
            "border": null,
            "bottom": null,
            "display": null,
            "flex": null,
            "flex_flow": null,
            "grid_area": null,
            "grid_auto_columns": null,
            "grid_auto_flow": null,
            "grid_auto_rows": null,
            "grid_column": null,
            "grid_gap": null,
            "grid_row": null,
            "grid_template_areas": null,
            "grid_template_columns": null,
            "grid_template_rows": null,
            "height": null,
            "justify_content": null,
            "justify_items": null,
            "left": null,
            "margin": null,
            "max_height": null,
            "max_width": null,
            "min_height": null,
            "min_width": null,
            "object_fit": null,
            "object_position": null,
            "order": null,
            "overflow": null,
            "overflow_x": null,
            "overflow_y": null,
            "padding": null,
            "right": null,
            "top": null,
            "visibility": null,
            "width": null
          }
        },
        "71e8f6aa6a4a4d7580371b2b7f67e463": {
          "model_module": "@jupyter-widgets/output",
          "model_module_version": "1.0.0",
          "model_name": "OutputModel",
          "state": {
            "_dom_classes": [],
            "_model_module": "@jupyter-widgets/output",
            "_model_module_version": "1.0.0",
            "_model_name": "OutputModel",
            "_view_count": null,
            "_view_module": "@jupyter-widgets/output",
            "_view_module_version": "1.0.0",
            "_view_name": "OutputView",
            "layout": "IPY_MODEL_abed2ab7387141edb7d747a9019946d6",
            "msg_id": "",
            "outputs": [
              {
                "name": "stderr",
                "output_type": "stream",
                "text": [
                  "/usr/local/lib/python3.8/dist-packages/seaborn/distributions.py:2619: FutureWarning: `distplot` is a deprecated function and will be removed in a future version. Please adapt your code to use either `displot` (a figure-level function with similar flexibility) or `histplot` (an axes-level function for histograms).\n",
                  "  warnings.warn(msg, FutureWarning)\n"
                ]
              },
              {
                "data": {
                  "image/png": "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\n",
                  "text/plain": "<Figure size 504x288 with 1 Axes>"
                },
                "metadata": {},
                "output_type": "display_data"
              }
            ]
          }
        },
        "74ea9a92b4f048e0abb7009a16648dc2": {
          "model_module": "@jupyter-widgets/output",
          "model_module_version": "1.0.0",
          "model_name": "OutputModel",
          "state": {
            "_dom_classes": [],
            "_model_module": "@jupyter-widgets/output",
            "_model_module_version": "1.0.0",
            "_model_name": "OutputModel",
            "_view_count": null,
            "_view_module": "@jupyter-widgets/output",
            "_view_module_version": "1.0.0",
            "_view_name": "OutputView",
            "layout": "IPY_MODEL_28fa53b4e94b4a84992d6dd0a026274d",
            "msg_id": "",
            "outputs": [
              {
                "data": {
                  "image/png": "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\n",
                  "text/plain": "<Figure size 504x288 with 1 Axes>"
                },
                "metadata": {},
                "output_type": "display_data"
              }
            ]
          }
        },
        "7ee00d14b7cc4050885475754519d3a8": {
          "model_module": "@jupyter-widgets/controls",
          "model_module_version": "1.5.0",
          "model_name": "DropdownModel",
          "state": {
            "_dom_classes": [],
            "_model_module": "@jupyter-widgets/controls",
            "_model_module_version": "1.5.0",
            "_model_name": "DropdownModel",
            "_options_labels": [
              "gender",
              "SeniorCitizen",
              "Partner",
              "Dependents",
              "PhoneService",
              "MultipleLines",
              "InternetService",
              "OnlineSecurity",
              "OnlineBackup",
              "DeviceProtection",
              "TechSupport",
              "StreamingTV",
              "StreamingMovies",
              "Contract",
              "PaperlessBilling",
              "PaymentMethod",
              "Churn"
            ],
            "_view_count": null,
            "_view_module": "@jupyter-widgets/controls",
            "_view_module_version": "1.5.0",
            "_view_name": "DropdownView",
            "description": "Variable",
            "description_tooltip": null,
            "disabled": false,
            "index": 0,
            "layout": "IPY_MODEL_449c60529c7447a7b5dc40bca9105b78",
            "style": "IPY_MODEL_c852cf05b060413896b8e5d10c8ec81f"
          }
        },
        "9c57206bf8764abb925a161e628a4cba": {
          "model_module": "@jupyter-widgets/base",
          "model_module_version": "1.2.0",
          "model_name": "LayoutModel",
          "state": {
            "_model_module": "@jupyter-widgets/base",
            "_model_module_version": "1.2.0",
            "_model_name": "LayoutModel",
            "_view_count": null,
            "_view_module": "@jupyter-widgets/base",
            "_view_module_version": "1.2.0",
            "_view_name": "LayoutView",
            "align_content": null,
            "align_items": null,
            "align_self": null,
            "border": null,
            "bottom": null,
            "display": null,
            "flex": null,
            "flex_flow": null,
            "grid_area": null,
            "grid_auto_columns": null,
            "grid_auto_flow": null,
            "grid_auto_rows": null,
            "grid_column": null,
            "grid_gap": null,
            "grid_row": null,
            "grid_template_areas": null,
            "grid_template_columns": null,
            "grid_template_rows": null,
            "height": null,
            "justify_content": null,
            "justify_items": null,
            "left": null,
            "margin": null,
            "max_height": null,
            "max_width": null,
            "min_height": null,
            "min_width": null,
            "object_fit": null,
            "object_position": null,
            "order": null,
            "overflow": null,
            "overflow_x": null,
            "overflow_y": null,
            "padding": null,
            "right": null,
            "top": null,
            "visibility": null,
            "width": null
          }
        },
        "9d817f80b06f4ded8879dbb1e1ca7809": {
          "model_module": "@jupyter-widgets/base",
          "model_module_version": "1.2.0",
          "model_name": "LayoutModel",
          "state": {
            "_model_module": "@jupyter-widgets/base",
            "_model_module_version": "1.2.0",
            "_model_name": "LayoutModel",
            "_view_count": null,
            "_view_module": "@jupyter-widgets/base",
            "_view_module_version": "1.2.0",
            "_view_name": "LayoutView",
            "align_content": null,
            "align_items": null,
            "align_self": null,
            "border": null,
            "bottom": null,
            "display": null,
            "flex": null,
            "flex_flow": null,
            "grid_area": null,
            "grid_auto_columns": null,
            "grid_auto_flow": null,
            "grid_auto_rows": null,
            "grid_column": null,
            "grid_gap": null,
            "grid_row": null,
            "grid_template_areas": null,
            "grid_template_columns": null,
            "grid_template_rows": null,
            "height": null,
            "justify_content": null,
            "justify_items": null,
            "left": null,
            "margin": null,
            "max_height": null,
            "max_width": null,
            "min_height": null,
            "min_width": null,
            "object_fit": null,
            "object_position": null,
            "order": null,
            "overflow": null,
            "overflow_x": null,
            "overflow_y": null,
            "padding": null,
            "right": null,
            "top": null,
            "visibility": null,
            "width": null
          }
        },
        "9fa885dfe780443bbdf556ff583ffe86": {
          "model_module": "@jupyter-widgets/base",
          "model_module_version": "1.2.0",
          "model_name": "LayoutModel",
          "state": {
            "_model_module": "@jupyter-widgets/base",
            "_model_module_version": "1.2.0",
            "_model_name": "LayoutModel",
            "_view_count": null,
            "_view_module": "@jupyter-widgets/base",
            "_view_module_version": "1.2.0",
            "_view_name": "LayoutView",
            "align_content": null,
            "align_items": null,
            "align_self": null,
            "border": null,
            "bottom": null,
            "display": null,
            "flex": null,
            "flex_flow": null,
            "grid_area": null,
            "grid_auto_columns": null,
            "grid_auto_flow": null,
            "grid_auto_rows": null,
            "grid_column": null,
            "grid_gap": null,
            "grid_row": null,
            "grid_template_areas": null,
            "grid_template_columns": null,
            "grid_template_rows": null,
            "height": null,
            "justify_content": null,
            "justify_items": null,
            "left": null,
            "margin": null,
            "max_height": null,
            "max_width": null,
            "min_height": null,
            "min_width": null,
            "object_fit": null,
            "object_position": null,
            "order": null,
            "overflow": null,
            "overflow_x": null,
            "overflow_y": null,
            "padding": null,
            "right": null,
            "top": null,
            "visibility": null,
            "width": null
          }
        },
        "abed2ab7387141edb7d747a9019946d6": {
          "model_module": "@jupyter-widgets/base",
          "model_module_version": "1.2.0",
          "model_name": "LayoutModel",
          "state": {
            "_model_module": "@jupyter-widgets/base",
            "_model_module_version": "1.2.0",
            "_model_name": "LayoutModel",
            "_view_count": null,
            "_view_module": "@jupyter-widgets/base",
            "_view_module_version": "1.2.0",
            "_view_name": "LayoutView",
            "align_content": null,
            "align_items": null,
            "align_self": null,
            "border": null,
            "bottom": null,
            "display": null,
            "flex": null,
            "flex_flow": null,
            "grid_area": null,
            "grid_auto_columns": null,
            "grid_auto_flow": null,
            "grid_auto_rows": null,
            "grid_column": null,
            "grid_gap": null,
            "grid_row": null,
            "grid_template_areas": null,
            "grid_template_columns": null,
            "grid_template_rows": null,
            "height": null,
            "justify_content": null,
            "justify_items": null,
            "left": null,
            "margin": null,
            "max_height": null,
            "max_width": null,
            "min_height": null,
            "min_width": null,
            "object_fit": null,
            "object_position": null,
            "order": null,
            "overflow": null,
            "overflow_x": null,
            "overflow_y": null,
            "padding": null,
            "right": null,
            "top": null,
            "visibility": null,
            "width": null
          }
        },
        "b45c2a7e7c62475c9e6a66e0d1beccb3": {
          "model_module": "@jupyter-widgets/controls",
          "model_module_version": "1.5.0",
          "model_name": "DescriptionStyleModel",
          "state": {
            "_model_module": "@jupyter-widgets/controls",
            "_model_module_version": "1.5.0",
            "_model_name": "DescriptionStyleModel",
            "_view_count": null,
            "_view_module": "@jupyter-widgets/base",
            "_view_module_version": "1.2.0",
            "_view_name": "StyleView",
            "description_width": ""
          }
        },
        "c852cf05b060413896b8e5d10c8ec81f": {
          "model_module": "@jupyter-widgets/controls",
          "model_module_version": "1.5.0",
          "model_name": "DescriptionStyleModel",
          "state": {
            "_model_module": "@jupyter-widgets/controls",
            "_model_module_version": "1.5.0",
            "_model_name": "DescriptionStyleModel",
            "_view_count": null,
            "_view_module": "@jupyter-widgets/base",
            "_view_module_version": "1.2.0",
            "_view_name": "StyleView",
            "description_width": ""
          }
        },
        "cc8ad5803f674bc6852488ad541e0d85": {
          "model_module": "@jupyter-widgets/output",
          "model_module_version": "1.0.0",
          "model_name": "OutputModel",
          "state": {
            "_dom_classes": [],
            "_model_module": "@jupyter-widgets/output",
            "_model_module_version": "1.0.0",
            "_model_name": "OutputModel",
            "_view_count": null,
            "_view_module": "@jupyter-widgets/output",
            "_view_module_version": "1.0.0",
            "_view_name": "OutputView",
            "layout": "IPY_MODEL_30f93c6221ac4bff97dd116543a0b286",
            "msg_id": "",
            "outputs": [
              {
                "data": {
                  "image/png": "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\n",
                  "text/plain": "<Figure size 504x288 with 1 Axes>"
                },
                "metadata": {},
                "output_type": "display_data"
              }
            ]
          }
        },
        "e4da5d3087c84fbb82c0eee341f9a892": {
          "model_module": "@jupyter-widgets/controls",
          "model_module_version": "1.5.0",
          "model_name": "VBoxModel",
          "state": {
            "_dom_classes": [
              "widget-interact"
            ],
            "_model_module": "@jupyter-widgets/controls",
            "_model_module_version": "1.5.0",
            "_model_name": "VBoxModel",
            "_view_count": null,
            "_view_module": "@jupyter-widgets/controls",
            "_view_module_version": "1.5.0",
            "_view_name": "VBoxView",
            "box_style": "",
            "children": [
              "IPY_MODEL_7ee00d14b7cc4050885475754519d3a8",
              "IPY_MODEL_74ea9a92b4f048e0abb7009a16648dc2"
            ],
            "layout": "IPY_MODEL_9fa885dfe780443bbdf556ff583ffe86"
          }
        }
      }
    }
  },
  "nbformat": 4,
  "nbformat_minor": 0
}
